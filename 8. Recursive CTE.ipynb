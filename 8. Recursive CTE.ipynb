{
    "metadata": {
        "kernelspec": {
            "name": "SQL",
            "display_name": "SQL",
            "language": "sql"
        },
        "language_info": {
            "name": "sql",
            "version": ""
        }
    },
    "nbformat_minor": 2,
    "nbformat": 4,
    "cells": [
        {
            "cell_type": "markdown",
            "source": [
                "**CTE: Common Table Expression**"
            ],
            "metadata": {
                "azdata_cell_guid": "6ec8232a-d5ec-4133-939d-f9414cece180"
            }
        },
        {
            "cell_type": "markdown",
            "source": [
                "**RECURSIVE CTE**"
            ],
            "metadata": {
                "azdata_cell_guid": "6d0b269e-bc76-49d5-9beb-838f2f40feaf"
            }
        },
        {
            "cell_type": "markdown",
            "source": [
                "**مثال:**\n",
                "\n",
                " تولید اعداد 1 تا 100"
            ],
            "metadata": {
                "azdata_cell_guid": "673812b2-79c6-48f0-85e2-83c02d964999"
            }
        },
        {
            "cell_type": "code",
            "source": [
                "WITH Numbers\r\n",
                "AS\r\n",
                "(\r\n",
                "\t-- Anchor Part\r\n",
                "\tSELECT 1 AS N\r\n",
                "\r\n",
                "\tUNION ALL\r\n",
                "\t-- Recursion Part\r\n",
                "\tSELECT \r\n",
                "\t\tN + 1\r\n",
                "\tFROM\r\n",
                "\t\tNumbers\r\n",
                "\tWHERE\r\n",
                "\t\tN < 10\r\n",
                ")\r\n",
                "\r\n",
                "SELECT \r\n",
                "\t*\r\n",
                "FROM\r\n",
                "\tNumbers"
            ],
            "metadata": {
                "azdata_cell_guid": "47f8de93-fa1f-4655-a10b-07f9c5a3ae6a"
            },
            "outputs": [],
            "execution_count": null
        },
        {
            "cell_type": "markdown",
            "source": [
                "ساخت جدول پست های سازمانی"
            ],
            "metadata": {
                "azdata_cell_guid": "daa285c0-0649-4faf-b02b-6be64ef4b55b"
            }
        },
        {
            "cell_type": "code",
            "source": [
                "USE SQLCLass\r\n",
                "GO\r\n",
                "\r\n",
                "CREATE TABLE dbo.Post\r\n",
                "(\r\n",
                "\tID INT PRIMARY KEY ,\r\n",
                "\tParentID INT REFERENCES dbo.Post(ID),\r\n",
                "\tTitle\tNVARCHAR(50)\r\n",
                ")\r\n",
                "GO\r\n",
                "\r\n",
                "INSERT INTO dbo.Post\r\n",
                "VALUES\r\n",
                "\t(1, NULL, N'مدیر عامل'),\r\n",
                "\t(2, 1, N'مدیر مالی'),\r\n",
                "\t(3, 1, N'مدیر فروش'),\r\n",
                "\t(4, 1, N'مدیر منابع انسانی'),\r\n",
                "\t(5, 2, N'سرپرست حسابداری'),\r\n",
                "\t(6, 5, N'حسابدار 1'),\r\n",
                "\t(7, 5, N'حسابدار 2'),\r\n",
                "\t(8, 3, N'سرپرست مناطق'),\r\n",
                "\t(9, 8, N'مدیر منطقه شمال'),\r\n",
                "\t(10, 8, N'مدیر منطقه جنوب'),\r\n",
                "\t(11, 4, N'رییس کارگزینی'),\r\n",
                "\t(12, 11, N'کارشناس کارگزینی'),\r\n",
                "\t(13, 11, N'کارشناس حقوق و دستمزد'),\r\n",
                "\t(14, 11, N'کارشناس تردد')\r\n",
                ""
            ],
            "metadata": {
                "azdata_cell_guid": "35d71a84-025c-4f9f-b0da-47eeb38d057e"
            },
            "outputs": [],
            "execution_count": null
        },
        {
            "cell_type": "code",
            "source": [
                "SELECT\r\n",
                "\t*\r\n",
                "FROM\r\n",
                "\tdbo.Post"
            ],
            "metadata": {
                "azdata_cell_guid": "9c2d86b2-a435-4e3a-8274-a1486cfb4cbf"
            },
            "outputs": [],
            "execution_count": null
        },
        {
            "cell_type": "markdown",
            "source": [
                "**مثال**:\n",
                "\n",
                "پیمایش پست ها از بالاترین شاخه به پایین"
            ],
            "metadata": {
                "azdata_cell_guid": "296c18eb-d0de-4965-8773-704b7fcfc086"
            }
        },
        {
            "cell_type": "code",
            "source": [
                "WITH CTE\r\n",
                "AS\r\n",
                "(\r\n",
                "\tSELECT\r\n",
                "\t\t*,\r\n",
                "\t\t1 AS Level\r\n",
                "\tFROM\r\n",
                "\t\tdbo.Post\r\n",
                "\tWHERE\r\n",
                "\t\tParentID IS NULL\r\n",
                "\r\n",
                "\tUNION ALL\r\n",
                "\tSELECT \r\n",
                "\t\tC.*,\r\n",
                "\t\tP.Level + 1\r\n",
                "\tFROM\r\n",
                "\t\tCTE AS P\r\n",
                "\tINNER JOIN\r\n",
                "\t\tdbo.Post AS C\r\n",
                "\tON\r\n",
                "\t\tP.ID = C.ParentID\r\n",
                ")\r\n",
                "\r\n",
                "SELECT \r\n",
                "\t*\r\n",
                "FROM\r\n",
                "\tCTE"
            ],
            "metadata": {
                "azdata_cell_guid": "ce737f2a-e7d3-4334-ac93-29ea4ec82cab"
            },
            "outputs": [],
            "execution_count": null
        },
        {
            "cell_type": "markdown",
            "source": [
                "**مثال:**  \n",
                "  \n",
                "نوشتن یک فانکشن که پست های زیر مجموعه یک پست را پیمایش کند"
            ],
            "metadata": {
                "azdata_cell_guid": "e4cd7120-3788-4aac-86dc-f8d83a8d5e13"
            }
        },
        {
            "cell_type": "code",
            "source": [
                "CREATE OR ALTER FUNCTION dbo.tvfPost\r\n",
                "(\r\n",
                "\t@PostID INT\r\n",
                ")\r\n",
                "RETURNS TABLE\r\n",
                "AS \r\n",
                "RETURN\r\n",
                "(\r\n",
                "\tWITH CTE\r\n",
                "\tAS\r\n",
                "\t(\r\n",
                "\t\tSELECT\r\n",
                "\t\t\t*,\r\n",
                "\t\t\t1 AS Level\r\n",
                "\t\tFROM\r\n",
                "\t\t\tdbo.Post\r\n",
                "\t\tWHERE\r\n",
                "\t\t\tID = @PostID\r\n",
                "\r\n",
                "\t\tUNION ALL\r\n",
                "\t\tSELECT \r\n",
                "\t\t\tC.*,\r\n",
                "\t\t\tP.Level + 1\r\n",
                "\t\tFROM\r\n",
                "\t\t\tCTE AS P\r\n",
                "\t\tINNER JOIN\r\n",
                "\t\t\tdbo.Post AS C\r\n",
                "\t\tON\r\n",
                "\t\t\tP.ID = C.ParentID\r\n",
                "\t)\r\n",
                "\r\n",
                "\tSELECT \r\n",
                "\t\t*\r\n",
                "\tFROM\r\n",
                "\t\tCTE\r\n",
                ")\r\n",
                "GO\r\n",
                "SELECT \r\n",
                "\t*\r\n",
                "FROM\r\n",
                "\tdbo.tvfPost(2)"
            ],
            "metadata": {
                "azdata_cell_guid": "17a12e94-835f-44b2-a68d-a54c6271058e"
            },
            "outputs": [],
            "execution_count": null
        },
        {
            "cell_type": "markdown",
            "source": [
                "مثال: \n",
                "\n",
                "پیمایش پست ها با کمی زیبا سازی"
            ],
            "metadata": {
                "azdata_cell_guid": "a2e1b148-303e-4268-bb98-845a72d1796e"
            }
        },
        {
            "cell_type": "code",
            "source": [
                "WITH CTE\r\n",
                "AS\r\n",
                "(\r\n",
                "\tSELECT\r\n",
                "\t\t*,\r\n",
                "\t\t1 AS Level,\r\n",
                "\t\tCONVERT(VARCHAR(MAX), Title) AS Path1,\r\n",
                "\t\tCONVERT(VARCHAR(MAX), Title) AS Path2\r\n",
                "\tFROM\r\n",
                "\t\tdbo.Post\r\n",
                "\tWHERE\r\n",
                "\t\tParentID IS NULL\r\n",
                "\r\n",
                "\tUNION ALL\r\n",
                "\tSELECT \r\n",
                "\t\tC.*,\r\n",
                "\t\tP.Level + 1,\r\n",
                "\t\tCONVERT(VARCHAR(MAX), P.Path1 + ' --> ' + C.Title) AS Path1,\r\n",
                "\t\tCONVERT(VARCHAR(MAX), REPLICATE('\t\t\t\t|\t\t\t\t', P.level) + C.Title) AS Path2\r\n",
                "\tFROM\r\n",
                "\t\tCTE AS P\r\n",
                "\tINNER JOIN\r\n",
                "\t\tdbo.Post AS C\r\n",
                "\tON\r\n",
                "\t\tP.ID = C.ParentID\r\n",
                ")\r\n",
                "\r\n",
                "SELECT \r\n",
                "\t*\r\n",
                "FROM\r\n",
                "\tCTE"
            ],
            "metadata": {
                "azdata_cell_guid": "b7d3efe1-4f19-49ea-9c94-6598eaca454b"
            },
            "outputs": [],
            "execution_count": null
        }
    ]
}