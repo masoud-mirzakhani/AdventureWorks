{
    "metadata": {
        "kernelspec": {
            "name": "SQL",
            "display_name": "SQL",
            "language": "sql"
        },
        "language_info": {
            "name": "sql",
            "version": ""
        }
    },
    "nbformat_minor": 2,
    "nbformat": 4,
    "cells": [
        {
            "cell_type": "markdown",
            "source": [
                "**NULL Values = Missing Values**\n",
                "\n",
                "**مقادیر نال یا خالی یا گم شده**\n",
                "\n",
                "برای پیدا کردن این مقادیر باید از گزاره زیر در شرط ها استفاده کرد"
            ],
            "metadata": {
                "azdata_cell_guid": "521ca641-a86c-4e4e-a7f3-332454d62067"
            }
        },
        {
            "cell_type": "code",
            "source": [
                "SELECT \r\n",
                "    *\r\n",
                "FROM   \r\n",
                "    Person.Person\r\n",
                "WHERE\r\n",
                "\tTitle IS NULL"
            ],
            "metadata": {
                "azdata_cell_guid": "13ecd747-9c02-43a9-9c83-ba1dde5a6ff1"
            },
            "outputs": [],
            "execution_count": null
        },
        {
            "cell_type": "code",
            "source": [
                "SELECT \r\n",
                "    *\r\n",
                "FROM   \r\n",
                "    Person.Person\r\n",
                "WHERE\r\n",
                "\tTitle IS NOT NULL"
            ],
            "metadata": {
                "azdata_cell_guid": "31c7aa89-b2cb-4c8b-8d0a-ded7f7f0e4fd"
            },
            "outputs": [],
            "execution_count": null
        },
        {
            "cell_type": "markdown",
            "source": [
                "**JOIN**\n",
                "\n",
                "لیست اشخاصی که کارمند هستند"
            ],
            "metadata": {
                "azdata_cell_guid": "3fba51e6-8118-4585-9211-a2f59e9b27d6"
            }
        },
        {
            "cell_type": "code",
            "source": [
                "SELECT \r\n",
                "\t*\r\n",
                "FROM\r\n",
                "\tPerson.Person AS P\r\n",
                "INNER JOIN\r\n",
                "\tHumanResources.Employee AS E\r\n",
                "ON\r\n",
                "\tP.BusinessEntityID = E.BusinessEntityID"
            ],
            "metadata": {
                "azdata_cell_guid": "1d06c157-96f6-47c3-9c10-d7a99d1724c5"
            },
            "outputs": [],
            "execution_count": null
        },
        {
            "cell_type": "markdown",
            "source": [
                "**JOIN \\* 2**\n",
                "\n",
                "لیست اشخاصی که فروشنده هستند"
            ],
            "metadata": {
                "azdata_cell_guid": "606f9e0b-7f5a-4567-be45-d566670a98c0"
            }
        },
        {
            "cell_type": "code",
            "source": [
                "SELECT \r\n",
                "\t*\r\n",
                "FROM\r\n",
                "\tPerson.Person AS P\r\n",
                "INNER JOIN\r\n",
                "\tHumanResources.Employee AS E\r\n",
                "ON\r\n",
                "\tP.BusinessEntityID = E.BusinessEntityID\r\n",
                "INNER JOIN\r\n",
                "\tSales.SalesPerson AS SP\r\n",
                "ON\r\n",
                "\tE.BusinessEntityID = SP.BusinessEntityID"
            ],
            "metadata": {
                "azdata_cell_guid": "11909c9b-7d89-4f02-bb08-86e436b71e7e"
            },
            "outputs": [],
            "execution_count": null
        },
        {
            "cell_type": "markdown",
            "source": [
                "**JOIN + Missing Values**\n",
                "\n",
                "لیست اشخاصی که کارمند نیستند"
            ],
            "metadata": {
                "azdata_cell_guid": "fa07ff1e-d09d-4807-bece-f50668d37517"
            }
        },
        {
            "cell_type": "code",
            "source": [
                "SELECT \r\n",
                "\tP.*\r\n",
                "FROM\r\n",
                "\tPerson.Person AS P\r\n",
                "LEFT OUTER JOIN\r\n",
                "\tHumanResources.Employee AS E\r\n",
                "ON\r\n",
                "\tP.BusinessEntityID = E.BusinessEntityID\r\n",
                "WHERE\r\n",
                "\tE.BusinessEntityID IS NULL"
            ],
            "metadata": {
                "azdata_cell_guid": "70841baf-5682-483c-9f2e-ac3cc231ff53"
            },
            "outputs": [],
            "execution_count": null
        },
        {
            "cell_type": "markdown",
            "source": [
                "**JOIN \\* 4**\n",
                "\n",
                "استفاده از چند جوبن برای کنار هم قرار دادن اطلاعات چند جدول\n",
                "\n",
                "مشخص کردن نام خریدار و کالا به ازای هر قلم کالای فروش رفته"
            ],
            "metadata": {
                "azdata_cell_guid": "31775535-3c47-4948-b9f0-91a69fc8342a"
            }
        },
        {
            "cell_type": "code",
            "source": [
                "SELECT \r\n",
                "\tSOH.OrderDate,\r\n",
                "\tSOH.CustomerID,\r\n",
                "\tPrs.FirstName,\r\n",
                "\tPrs.LastName,\r\n",
                "\tSOD.ProductID,\r\n",
                "\tP.Name AS ProductName,\r\n",
                "\tSOD.OrderQty,\r\n",
                "\tSOD.UnitPrice,\r\n",
                "\tSOD.OrderQty * SOD.UnitPrice AS TotalPrice\r\n",
                "FROM\r\n",
                "\tSales.SalesOrderHeader AS SOH --31,465\r\n",
                "INNER JOIN\r\n",
                "\tSales.SalesOrderDetail AS SOD --121,317\r\n",
                "ON\r\n",
                "\tSOH.SalesOrderID = SOD.SalesOrderID\r\n",
                "INNER JOIN\r\n",
                "\tProduction.Product AS P\r\n",
                "ON\r\n",
                "\tSOD.ProductID = P.ProductID\r\n",
                "INNER JOIN\r\n",
                "\tSales.Customer AS C\r\n",
                "ON\r\n",
                "\tSOH.CustomerID = C.CustomerID\r\n",
                "INNER JOIN\r\n",
                "\tPerson.Person AS Prs\r\n",
                "ON\r\n",
                "\tC.PersonID = Prs.BusinessEntityID"
            ],
            "metadata": {
                "azdata_cell_guid": "42d89346-16a4-4b80-a067-f25da99305cb"
            },
            "outputs": [],
            "execution_count": null
        },
        {
            "cell_type": "markdown",
            "source": [
                "**GROUP BY**\n",
                "\n",
                "**گروه بندی**\n",
                "\n",
                "آمار فروش به ازای هر مشتری"
            ],
            "metadata": {
                "azdata_cell_guid": "75dddcdf-eb59-4d18-b375-b01d86d22316"
            }
        },
        {
            "cell_type": "code",
            "source": [
                "SELECT \r\n",
                "\tSOH.CustomerID,\r\n",
                "\tPrs.FirstName,\r\n",
                "\tPrs.LastName,\r\n",
                "\tSUM(SOD.OrderQty)\t\t\t\t\tAS TotalOrderQty,\r\n",
                "\tSUM(SOD.OrderQty * SOD.UnitPrice)\tAS TotalPrice\r\n",
                "FROM\r\n",
                "\tSales.SalesOrderHeader AS SOH --31,465\r\n",
                "INNER JOIN\r\n",
                "\tSales.SalesOrderDetail AS SOD --121,317\r\n",
                "ON\r\n",
                "\tSOH.SalesOrderID = SOD.SalesOrderID\r\n",
                "INNER JOIN\r\n",
                "\tSales.Customer AS C\r\n",
                "ON\r\n",
                "\tSOH.CustomerID = C.CustomerID\r\n",
                "INNER JOIN\r\n",
                "\tPerson.Person AS Prs\r\n",
                "ON\r\n",
                "\tC.PersonID = Prs.BusinessEntityID\r\n",
                "GROUP BY\r\n",
                "\tSOH.CustomerID,\r\n",
                "\tPrs.FirstName,\r\n",
                "\tPrs.LastName"
            ],
            "metadata": {
                "azdata_cell_guid": "08514678-1ef4-4e18-b78c-3bc5d3fb6899"
            },
            "outputs": [],
            "execution_count": null
        },
        {
            "cell_type": "markdown",
            "source": [
                "آمار فروش به ازای هر کالا"
            ],
            "metadata": {
                "azdata_cell_guid": "be6c76a5-87b1-4bdf-b5f3-3093fce0e4fc"
            }
        },
        {
            "cell_type": "code",
            "source": [
                "SELECT \r\n",
                "\tSOD.ProductID,\r\n",
                "\tP.Name AS ProductName,\r\n",
                "\tSUM(SOD.OrderQty)\t\t\t\t\tAS TotalOrderQty,\r\n",
                "\tSUM(SOD.OrderQty * SOD.UnitPrice)\tAS TotalPrice\r\n",
                "FROM\r\n",
                "\tSales.SalesOrderHeader AS SOH --31,465\r\n",
                "INNER JOIN\r\n",
                "\tSales.SalesOrderDetail AS SOD --121,317\r\n",
                "ON\r\n",
                "\tSOH.SalesOrderID = SOD.SalesOrderID\r\n",
                "INNER JOIN\r\n",
                "\tProduction.Product AS P\r\n",
                "ON\r\n",
                "\tSOD.ProductID = P.ProductID\r\n",
                "GROUP BY\r\n",
                "\tSOD.ProductID,\r\n",
                "\tP.Name"
            ],
            "metadata": {
                "azdata_cell_guid": "91d8f351-177e-470a-82b5-c65c480dcef5"
            },
            "outputs": [],
            "execution_count": null
        },
        {
            "cell_type": "markdown",
            "source": [
                "**DISTINCT**\n",
                "\n",
                "**حذف رکورد های تکراری**\n",
                "\n",
                "لیست بدون تکرار روزهایی که فروش انجام شده است"
            ],
            "metadata": {
                "azdata_cell_guid": "bb05b07e-f096-4796-8b9b-ba29d8d9ddd6"
            }
        },
        {
            "cell_type": "code",
            "source": [
                "SELECT DISTINCT\r\n",
                "\tSOH.OrderDate,\r\n",
                "\t\r\n",
                "\tYEAR(SOH.OrderDate)\t\t\t\t\tAS Year,\r\n",
                "\tDATEPART(YEAR, SOH.OrderDate)\t\tAS Year2,\r\n",
                "\r\n",
                "\tMONTH(SOH.OrderDate)\t\t\t\tAS Month,\r\n",
                "\tDATEPART(MONTH, SOH.OrderDate)\t\tAS Month2,\r\n",
                "\tDATENAME(MONTH, SOH.OrderDate)\t\tAS MonthName,\r\n",
                "\t\r\n",
                "\tDAY(SOH.OrderDate)\t\t\t\t\tAS Day,\r\n",
                "\tDATEPART(DAY, SOH.OrderDate)\t\tAS Day2,\r\n",
                "\tDATENAME(weekday, SOH.OrderDate)\tAS DayName,\r\n",
                "\r\n",
                "\r\n",
                "\tDATEPART(QUARTER, SOH.OrderDate)\tAS Quarter,\r\n",
                "\tDATEPART(dayofyear, SOH.OrderDate)\tAS DayOfYear,\r\n",
                "\tDATEPART(week, SOH.OrderDate)\t\tAS WeekOfYear\r\n",
                "FROM\r\n",
                "\tSales.SalesOrderHeader AS SOH"
            ],
            "metadata": {
                "azdata_cell_guid": "b9e00a88-f9c8-4170-a3ce-f76f5ccfb2b3"
            },
            "outputs": [],
            "execution_count": null
        },
        {
            "cell_type": "markdown",
            "source": [
                "استفاده از توابع تاریخ و زمان\n",
                "\n",
                "فروش به تفکیک سال و ماه"
            ],
            "metadata": {
                "azdata_cell_guid": "4caa07bb-d71b-488d-9723-f06b801c6daf"
            }
        },
        {
            "cell_type": "code",
            "source": [
                "SELECT \r\n",
                "\tYEAR(SOH.OrderDate)\t\t\t\t\tAS OrderYear,\r\n",
                "\tMONTH(SOH.OrderDate)\t\t\t\tAS OrderMonth,\r\n",
                "\tDATENAME(MONTH, SOH.OrderDate)\t\tAS orderMonthName,\r\n",
                "\tSUM(SOD.OrderQty)\t\t\t\t\tAS TotalOrderQty,\r\n",
                "\tSUM(SOD.OrderQty * SOD.UnitPrice)\tAS TotalPrice\r\n",
                "FROM\r\n",
                "\tSales.SalesOrderHeader AS SOH --31,465\r\n",
                "INNER JOIN\r\n",
                "\tSales.SalesOrderDetail AS SOD --121,317\r\n",
                "ON\r\n",
                "\tSOH.SalesOrderID = SOD.SalesOrderID\r\n",
                "GROUP BY\r\n",
                "\tYEAR(SOH.OrderDate),\r\n",
                "\tMONTH(SOH.OrderDate),\r\n",
                "\tDATENAME(MONTH, SOH.OrderDate)\r\n",
                "ORDER BY\r\n",
                "\tYEAR(SOH.OrderDate),\r\n",
                "\tMONTH(SOH.OrderDate)"
            ],
            "metadata": {
                "azdata_cell_guid": "c5894f9d-6c2e-4a88-a983-fe31d2d8376e"
            },
            "outputs": [],
            "execution_count": null
        },
        {
            "cell_type": "markdown",
            "source": [
                "**HAVING**\n",
                "\n",
                "**فیلتر کردن گروه ها:**\n",
                "\n",
                "فروش به تفکیک سال و فصل برای همه سال ها به غیر از 2012 به شرط آن که جمع تعداد فروش بیشتر از ده هزار باشد"
            ],
            "metadata": {
                "azdata_cell_guid": "fd5e6299-b80b-47e8-9350-81bb08138b69"
            }
        },
        {
            "cell_type": "code",
            "source": [
                "SELECT \r\n",
                "\tYEAR(SOH.OrderDate)\t\t\t\t\tAS OrderYear,\r\n",
                "\tDATEPART(QUARTER, SOH.OrderDate)\tAS OrderQuarter,\r\n",
                "\tSUM(SOD.OrderQty)\t\t\t\t\tAS TotalOrderQty,\r\n",
                "\tSUM(SOD.OrderQty * SOD.UnitPrice)\tAS TotalPrice\r\n",
                "FROM\r\n",
                "\tSales.SalesOrderHeader AS SOH --31,465\r\n",
                "INNER JOIN\r\n",
                "\tSales.SalesOrderDetail AS SOD --121,317\r\n",
                "ON\r\n",
                "\tSOH.SalesOrderID = SOD.SalesOrderID\r\n",
                "WHERE\r\n",
                "\tYEAR(SOH.OrderDate) <> 2012\r\n",
                "GROUP BY\r\n",
                "\tYEAR(SOH.OrderDate),\r\n",
                "\tDATEPART(QUARTER, SOH.OrderDate)\r\n",
                "HAVING\r\n",
                "\tSUM(SOD.OrderQty) > 10000\r\n",
                "ORDER BY\r\n",
                "\tYEAR(SOH.OrderDate),\r\n",
                "\tDATEPART(QUARTER, SOH.OrderDate)"
            ],
            "metadata": {
                "azdata_cell_guid": "2913c2ae-23ae-4e90-a9f6-29a97a974889"
            },
            "outputs": [],
            "execution_count": null
        },
        {
            "cell_type": "markdown",
            "source": [
                " **ORDER BY**\n",
                "\n",
                "**مرتب سازی**"
            ],
            "metadata": {
                "azdata_cell_guid": "bbf98c89-82e4-4a2f-997b-715c88741b65"
            }
        },
        {
            "cell_type": "code",
            "source": [
                "SELECT \r\n",
                "\tYEAR(SOH.OrderDate)\t\t\t\t\tAS OrderYear,\r\n",
                "\tDATEPART(QUARTER, SOH.OrderDate)\tAS OrderQuarter,\r\n",
                "\tMONTH(SOH.OrderDate)\t\t\t\tAS OrderMonth,\r\n",
                "\tSUM(SOD.OrderQty)\t\t\t\t\tAS TotalOrderQty,\r\n",
                "\tSUM(SOD.OrderQty * SOD.UnitPrice)\tAS TotalPrice\r\n",
                "FROM\r\n",
                "\tSales.SalesOrderHeader AS SOH --31,465\r\n",
                "INNER JOIN\r\n",
                "\tSales.SalesOrderDetail AS SOD --121,317\r\n",
                "ON\r\n",
                "\tSOH.SalesOrderID = SOD.SalesOrderID\r\n",
                "GROUP BY\r\n",
                "\tYEAR(SOH.OrderDate),\r\n",
                "\tDATEPART(QUARTER, SOH.OrderDate),\r\n",
                "\tMONTH(SOH.OrderDate)\r\n",
                "ORDER BY\r\n",
                "\tYEAR(SOH.OrderDate),\t-- ASC,  Expression\r\n",
                "\tOrderQuarter ASC,\t\t-- ASC,  Alias\r\n",
                "\t3 DESC\t\t\t\t \t-- DESC, Column Position"
            ],
            "metadata": {
                "azdata_cell_guid": "77aa6231-65f5-46a6-ad26-8f5df656306e"
            },
            "outputs": [],
            "execution_count": null
        },
        {
            "cell_type": "markdown",
            "source": [
                "**TOP N ROWS**"
            ],
            "metadata": {
                "azdata_cell_guid": "b84a0a5e-7f76-42da-9719-30368c0b326c"
            }
        },
        {
            "cell_type": "code",
            "source": [
                "SELECT TOP (100)\r\n",
                "\t*\r\n",
                "FROM\r\n",
                "\tPerson.Person\r\n",
                "ORDER BY\r\n",
                "\tFirstName"
            ],
            "metadata": {
                "azdata_cell_guid": "f2cfb5ed-14d4-4290-8153-ef9c9c4323f8"
            },
            "outputs": [],
            "execution_count": null
        },
        {
            "cell_type": "markdown",
            "source": [
                "**TOP + PERCENT**"
            ],
            "metadata": {
                "azdata_cell_guid": "d8d18e40-f7bc-4e58-8e00-bae5019aa217"
            }
        },
        {
            "cell_type": "code",
            "source": [
                "SELECT TOP 10 PERCENT\r\n",
                "\t*\r\n",
                "FROM\r\n",
                "\tPerson.Person -- 19,972\r\n",
                "ORDER BY\r\n",
                "\tFirstName"
            ],
            "metadata": {
                "azdata_cell_guid": "2b3e867a-d7f5-40d9-b960-65d2a7b0ba5a"
            },
            "outputs": [],
            "execution_count": null
        },
        {
            "cell_type": "markdown",
            "source": [
                "**OFFSET FETCH**"
            ],
            "metadata": {
                "azdata_cell_guid": "28c2a1ef-25e3-443b-80d0-e819a4c43177"
            }
        },
        {
            "cell_type": "code",
            "source": [
                "-- Skip the first 5 rows from the sorted result set and return all remaining rows.  \r\n",
                "SELECT \r\n",
                "\tDepartmentID, \r\n",
                "\tName, \r\n",
                "\tGroupName  \r\n",
                "FROM \r\n",
                "\tHumanResources.Department  \r\n",
                "ORDER BY \r\n",
                "\tDepartmentID \r\n",
                "OFFSET \r\n",
                "\t5 ROWS;"
            ],
            "metadata": {
                "azdata_cell_guid": "43c79b89-1baa-43f0-9d0d-3cc0fff453f2"
            },
            "outputs": [],
            "execution_count": null
        },
        {
            "cell_type": "code",
            "source": [
                "-- Skip 0 rows and return only the first 10 rows from the sorted result set.  \r\n",
                "SELECT \r\n",
                "\tDepartmentID, \r\n",
                "\tName, \r\n",
                "\tGroupName  \r\n",
                "FROM \r\n",
                "\tHumanResources.Department  \r\n",
                "ORDER BY \r\n",
                "\tDepartmentID   \r\n",
                "OFFSET \r\n",
                "\t0 ROWS  \r\n",
                "FETCH \r\n",
                "\tNEXT 10 ROWS ONLY;"
            ],
            "metadata": {
                "azdata_cell_guid": "4658440b-daff-4b64-8e83-5034a1e07fa9"
            },
            "outputs": [],
            "execution_count": null
        },
        {
            "cell_type": "code",
            "source": [
                "-- Skip 5 rows and return next 5 rows from the sorted result set. \r\n",
                "SELECT \r\n",
                "\tDepartmentID, \r\n",
                "\tName, \r\n",
                "\tGroupName  \r\n",
                "FROM \r\n",
                "\tHumanResources.Department  \r\n",
                "ORDER BY \r\n",
                "\tDepartmentID   \r\n",
                "OFFSET \r\n",
                "\t5 ROWS  \r\n",
                "FETCH \r\n",
                "\tNEXT 5 ROWS ONLY;"
            ],
            "metadata": {
                "azdata_cell_guid": "afdacff0-6f01-450c-9cd2-ef4aad75668b"
            },
            "outputs": [],
            "execution_count": null
        }
    ]
}