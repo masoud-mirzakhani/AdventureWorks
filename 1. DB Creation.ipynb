{
    "metadata": {
        "kernelspec": {
            "name": "SQL",
            "display_name": "SQL",
            "language": "sql"
        },
        "language_info": {
            "name": "sql",
            "version": ""
        }
    },
    "nbformat_minor": 2,
    "nbformat": 4,
    "cells": [
        {
            "cell_type": "markdown",
            "source": [
                "حذف پایگاه داده"
            ],
            "metadata": {
                "azdata_cell_guid": "a4a58278-b528-4012-9cdc-c72253b8e390"
            }
        },
        {
            "cell_type": "code",
            "source": [
                "DROP DATABASE SQLCLass"
            ],
            "metadata": {
                "azdata_cell_guid": "f16e7b8a-65c9-4d09-ac93-30c16977fe41"
            },
            "outputs": [],
            "execution_count": null
        },
        {
            "cell_type": "markdown",
            "source": [
                "ساخت پایگاه داده"
            ],
            "metadata": {
                "azdata_cell_guid": "f4997097-8487-47e4-99bf-ef88dc42ab7b"
            }
        },
        {
            "cell_type": "code",
            "source": [
                "CREATE DATABASE SQLCLass"
            ],
            "metadata": {
                "azdata_cell_guid": "96241471-5408-451a-b855-5d1f4192b322"
            },
            "outputs": [],
            "execution_count": null
        },
        {
            "cell_type": "markdown",
            "source": [
                "ساخت اسکیما\n",
                "\n",
                "اسکیمای پیش فرض: dbo"
            ],
            "metadata": {
                "azdata_cell_guid": "dafae6c8-ace2-4f7e-8d75-4522024a9c67"
            }
        },
        {
            "cell_type": "code",
            "source": [
                "USE SQLClass\r\n",
                "GO\r\n",
                "\r\n",
                "CREATE SCHEMA SLS -- Sales\r\n",
                "GO\r\n",
                "\r\n",
                "CREATE SCHEMA INV -- Inventory"
            ],
            "metadata": {
                "azdata_cell_guid": "f65ad618-b7bc-4922-b969-59728a43ef20"
            },
            "outputs": [],
            "execution_count": null
        },
        {
            "cell_type": "markdown",
            "source": [
                "ساخت و حذف جدول\n",
                "\n",
                "اسکیمای پیش فرض"
            ],
            "metadata": {
                "azdata_cell_guid": "5343dfd8-141e-47bb-b8f4-9a32aaf56061"
            }
        },
        {
            "cell_type": "code",
            "source": [
                "USE SQLClass\r\n",
                "GO\r\n",
                "\r\n",
                "CREATE TABLE Test -- default schema: dbo\r\n",
                "(\r\n",
                "\tID INT\r\n",
                ")\r\n",
                "\r\n",
                "\r\n",
                "DROP TABLE dbo.Test -- default schema: dbo"
            ],
            "metadata": {
                "azdata_cell_guid": "1b3c768e-c498-4329-b658-48722c5ee73c"
            },
            "outputs": [],
            "execution_count": null
        },
        {
            "cell_type": "markdown",
            "source": [
                "ساخت و حذف جدول\n",
                "\n",
                "کلید اصلی\n",
                "\n",
                "کلید یکتا: بهتر است از کلید یکتا استفاده نشود"
            ],
            "metadata": {
                "azdata_cell_guid": "dca6a9b1-7468-4bed-8218-8798775ef11c"
            }
        },
        {
            "cell_type": "code",
            "source": [
                "USE SQLClass\r\n",
                "GO\r\n",
                "\r\n",
                "CREATE TABLE SLS.Customer\r\n",
                "(\r\n",
                "\tID\t\t\t\tINT PRIMARY KEY IDENTITY(1,1),\t-- PK: NOT NULL, UNIQUE, CLUSTERED INDEX\r\n",
                "\tCustomerCode\tVARCHAR(10) UNIQUE,\t\t\t\t-- UK: NOT NULL, UNIQUE, NON CLUSTERED INDEX (Best Practice: Do Not Use)\r\n",
                "\tFirstName\t\tVARCHAR(50)\tNOT NULL,\r\n",
                "\tLastName\t\tVARCHAR(60) NOT NULL\r\n",
                ")\r\n",
                "GO\r\n",
                "\r\n",
                "DROP TABLE SLS.Customer\r\n",
                "GO"
            ],
            "metadata": {
                "azdata_cell_guid": "5d2df482-9dfe-4b4f-b99b-dc97632eb140"
            },
            "outputs": [],
            "execution_count": null
        },
        {
            "cell_type": "markdown",
            "source": [
                "ساخت و حذف جدول\n",
                "\n",
                "کلید اصلی\n",
                "\n",
                "استفاده از ایندکس یکتا به جای کلید یکتا"
            ],
            "metadata": {
                "azdata_cell_guid": "3f9debd0-b953-4661-a644-06f8ee6509c8"
            }
        },
        {
            "cell_type": "code",
            "source": [
                "USE SQLClass\r\n",
                "GO\r\n",
                "\r\n",
                "CREATE TABLE SLS.Customer\r\n",
                "(\r\n",
                "\tID\t\t\t\tINT PRIMARY KEY IDENTITY(1,1),\t-- PK: NOT NULL, UNIQUE, CLUSTERED INDEX\r\n",
                "\tCustomerCode\tVARCHAR(10) NOT NULL,\r\n",
                "\tFirstName\t\tVARCHAR(50)\tNOT NULL,\r\n",
                "\tLastName\t\tVARCHAR(60) NOT NULL\r\n",
                ")\r\n",
                "GO\r\n",
                "\r\n",
                "CREATE UNIQUE NONCLUSTERED INDEX UIX_Customer\r\n",
                "ON SLS.Customer(CustomerCode)\r\n",
                "GO\r\n",
                "\r\n",
                "DROP TABLE SLS.Customer"
            ],
            "metadata": {
                "azdata_cell_guid": "db560e83-13b5-4781-b4c2-0f4635bc26b7"
            },
            "outputs": [],
            "execution_count": null
        },
        {
            "cell_type": "markdown",
            "source": [
                "ساخت جداول توضیح داده شده"
            ],
            "metadata": {
                "azdata_cell_guid": "9fe3c1d2-92a6-4b81-9390-caa202265d7d"
            }
        },
        {
            "cell_type": "code",
            "source": [
                "USE SQLClass\r\n",
                "GO\r\n",
                "\r\n",
                "CREATE TABLE SLS.Customer\r\n",
                "(\r\n",
                "\tID\t\t\t\tINT PRIMARY KEY IDENTITY(1,1), -- کلید اصلی و مقادیر خودکار، از 1 شروع می شود و یکی یکی اضافه می شود\r\n",
                "\tCustomerCode\tVARCHAR(10) NOT NULL,\r\n",
                "\tFirstName\t\tVARCHAR(50)\tNOT NULL,\r\n",
                "\tLastName\t\tVARCHAR(60) NOT NULL\r\n",
                ")\r\n",
                "GO\r\n",
                "\r\n",
                "-- ساخت ایندکس یکتا و غیر کلاستر بر روی\r\n",
                "-- جدول: SLS.Customer\r\n",
                "-- فیلد: CustomerCode\r\n",
                "CREATE UNIQUE NONCLUSTERED INDEX UIX_Customer\r\n",
                "ON SLS.Customer(CustomerCode)\r\n",
                "GO\r\n",
                "\r\n",
                "CREATE TABLE INV.Product\r\n",
                "(\r\n",
                "\tID\t\t\t\tINT PRIMARY KEY IDENTITY(1,1),\r\n",
                "\tProductCode\t\tVARCHAR(10) NOT NULL,\r\n",
                "\tProductName\t\tVARCHAR(50)\tNOT NULL\r\n",
                ")\r\n",
                "GO\r\n",
                "\r\n",
                "CREATE UNIQUE NONCLUSTERED INDEX UIX_Product\r\n",
                "ON INV.Product(ProductCode)\r\n",
                "GO\r\n",
                "\r\n",
                "\r\n",
                "CREATE TABLE SLS.FactorHeader\r\n",
                "(\r\n",
                "\tID\t\t\t\tINT PRIMARY KEY IDENTITY(1,1),\r\n",
                "\tFactorNumber\tINT NOT NULL,\r\n",
                "\tFactorDate\t\tDATETIME NOT NULL,\r\n",
                "\tCustomerID\t\tINT NOT NULL REFERENCES SLS.Customer(ID)\r\n",
                ")\r\n",
                "GO\r\n",
                "\r\n",
                "CREATE UNIQUE NONCLUSTERED INDEX UIX_FactorHeader\r\n",
                "ON SLS.FactorHeader(FactorNumber)\r\n",
                "GO\r\n",
                "\r\n",
                "\r\n",
                "CREATE TABLE SLS.FactorDetail\r\n",
                "(\r\n",
                "\tID\t\t\t\tINT PRIMARY KEY IDENTITY(1,1),\r\n",
                "\tFactorHeaderID\tINT NOT NULL REFERENCES SLS.FactorHeader(ID), -- ایجاد کلید خارجی\r\n",
                "\tRowNumber\t\tINT NOT NULL,\r\n",
                "\tProductID\t\tINT NOT NULL REFERENCES INV.Product(ID), -- ایجاد کلید خارجی\r\n",
                "\tUnitPrice\t\tDECIMAL(18, 3) NOT NULL,\r\n",
                "\tQuantity\t\tDECIMAL(18, 3) NOT NULL,\r\n",
                "\tTotalPrice\t\tDECIMAL(18, 3) NOT NULL\r\n",
                ")\r\n",
                "GO\r\n",
                "\r\n",
                "-- ساخت ایندکس یکتا و مرکب بر روی \r\n",
                "-- جدول: SLS.FactorDetail\r\n",
                "-- سنون های: FactorHeaderID, RowNumber\r\n",
                "CREATE UNIQUE NONCLUSTERED INDEX UIX_FactorDetail\r\n",
                "ON SLS.FactorDetail(FactorHeaderID, RowNumber)\r\n",
                "GO"
            ],
            "metadata": {
                "azdata_cell_guid": "9e968d2c-d161-4b07-ac35-664211b86537"
            },
            "outputs": [],
            "execution_count": null
        }
    ]
}