{
    "metadata": {
        "kernelspec": {
            "name": "SQL",
            "display_name": "SQL",
            "language": "sql"
        },
        "language_info": {
            "name": "sql",
            "version": ""
        }
    },
    "nbformat_minor": 2,
    "nbformat": 4,
    "cells": [
        {
            "cell_type": "markdown",
            "source": [
                "ساخت جداول تستی"
            ],
            "metadata": {
                "azdata_cell_guid": "aa17ad6a-77bc-487f-8f03-fa1ecfd80c6e"
            }
        },
        {
            "cell_type": "code",
            "source": [
                "USE SQLClass\r\n",
                "GO\r\n",
                "\r\n",
                "CREATE TABLE dbo.Employee\r\n",
                "(\r\n",
                "\tID\t\t\tINT,\r\n",
                "\tFullName\tVARCHAR(50),\r\n",
                "\tCityID\t\tINT\r\n",
                ")\r\n",
                "GO\r\n",
                "\r\n",
                "CREATE TABLE dbo.City\r\n",
                "(\r\n",
                "\tID INT,\r\n",
                "\tCityName VARCHAR(50)\r\n",
                ")"
            ],
            "metadata": {
                "azdata_cell_guid": "ddc6cc69-2aae-446e-87a9-d893cd44aac9"
            },
            "outputs": [],
            "execution_count": null
        },
        {
            "cell_type": "markdown",
            "source": [
                "وارد کردن اطلاعات"
            ],
            "metadata": {
                "azdata_cell_guid": "cbe66ace-638f-4ec5-8ae6-b4e8144f4a89"
            }
        },
        {
            "cell_type": "code",
            "source": [
                "USE SQLClass\r\n",
                "GO\r\n",
                "\r\n",
                "INSERT INTO dbo.City\r\n",
                "(\r\n",
                "\tID,\r\n",
                "\tCityName\r\n",
                ")\r\n",
                "VALUES\r\n",
                "\t(3, 'Tehran'),\r\n",
                "\t(4, 'Shiraz'),\r\n",
                "\t(5, 'Tabriz')\r\n",
                "GO\r\n",
                "\r\n",
                "INSERT INTO dbo.Employee\r\n",
                "(\r\n",
                "\tID,\r\n",
                "\tFullName,\r\n",
                "\tCityID\r\n",
                ")\r\n",
                "VALUES\r\n",
                "\t(1, 'Ali', 3),\r\n",
                "\t(2, 'Omid', 4),\r\n",
                "\t(3, 'Reza', 5)"
            ],
            "metadata": {
                "azdata_cell_guid": "7e48881a-4bcd-4939-bbcb-3fcbcd123120"
            },
            "outputs": [],
            "execution_count": null
        },
        {
            "cell_type": "markdown",
            "source": [
                "دستور: \n",
                "\n",
                "**CROSS JOIN**"
            ],
            "metadata": {
                "azdata_cell_guid": "50a8dec9-f211-4d4b-a470-b67d30db4ea2"
            }
        },
        {
            "cell_type": "code",
            "source": [
                "USE SQLClass\r\n",
                "GO\r\n",
                "\r\n",
                "SELECT\r\n",
                "\t*\r\n",
                "FROM\r\n",
                "\tdbo.Employee\r\n",
                "CROSS JOIN\r\n",
                "\tdbo.City"
            ],
            "metadata": {
                "azdata_cell_guid": "49cbb9bf-9c99-47c4-9ace-46d881cc6c59"
            },
            "outputs": [],
            "execution_count": null
        },
        {
            "cell_type": "code",
            "source": [
                "USE SQLClass\r\n",
                "GO\r\n",
                "\r\n",
                "SELECT\r\n",
                "\t*\r\n",
                "FROM\r\n",
                "\tdbo.Employee\r\n",
                "CROSS JOIN\r\n",
                "\tdbo.City\r\n",
                "WHERE\r\n",
                "\tdbo.Employee.CityID = dbo.City.ID"
            ],
            "metadata": {
                "azdata_cell_guid": "3fdd3f25-108f-47b5-810a-816022ece02a"
            },
            "outputs": [],
            "execution_count": null
        },
        {
            "cell_type": "code",
            "source": [
                "USE SQLClass\r\n",
                "GO\r\n",
                "\r\n",
                "SELECT\r\n",
                "\t*\r\n",
                "FROM\r\n",
                "\tdbo.Employee AS E\r\n",
                "CROSS JOIN\r\n",
                "\tdbo.City AS C\r\n",
                "WHERE\r\n",
                "\tE.CityID = C.ID"
            ],
            "metadata": {
                "azdata_cell_guid": "aa0e56f4-225a-4c0e-b90c-6ae1e9effc2d"
            },
            "outputs": [],
            "execution_count": null
        },
        {
            "cell_type": "code",
            "source": [
                "USE SQLClass\r\n",
                "GO\r\n",
                "\r\n",
                "SELECT\r\n",
                "\t*\r\n",
                "FROM\r\n",
                "\tdbo.Employee\r\n",
                "CROSS JOIN\r\n",
                "\tdbo.City\r\n",
                "WHERE\r\n",
                "\tdbo.Employee.ID = 1"
            ],
            "metadata": {
                "azdata_cell_guid": "f8feb058-dd01-4223-975f-811f95e8371e"
            },
            "outputs": [],
            "execution_count": null
        },
        {
            "cell_type": "markdown",
            "source": [
                "دستور: \n",
                "\n",
                "**INNER JOIN**"
            ],
            "metadata": {
                "azdata_cell_guid": "82247753-4de0-4cd9-bda3-8c0953d817c6"
            }
        },
        {
            "cell_type": "code",
            "source": [
                "USE SQLClass\r\n",
                "GO\r\n",
                "\r\n",
                "SELECT \r\n",
                "\t*\r\n",
                "FROM\r\n",
                "\tdbo.Employee AS E\r\n",
                "CROSS JOIN\r\n",
                "\tdbo.City AS C\r\n",
                "WHERE\r\n",
                "\tE.CityID = C.ID"
            ],
            "metadata": {
                "azdata_cell_guid": "13b12a35-7830-4797-b7c0-44fbfa26bc24"
            },
            "outputs": [],
            "execution_count": null
        },
        {
            "cell_type": "code",
            "source": [
                "USE SQLClass\r\n",
                "GO\r\n",
                "\r\n",
                "SELECT \r\n",
                "\t*\r\n",
                "FROM\r\n",
                "\tdbo.Employee AS E\r\n",
                "INNER JOIN\r\n",
                "\tdbo.City AS C\r\n",
                "ON\r\n",
                "\tE.CityID = C.ID"
            ],
            "metadata": {
                "azdata_cell_guid": "73bfef0d-6b48-4038-98c0-2c186450880e"
            },
            "outputs": [],
            "execution_count": null
        },
        {
            "cell_type": "markdown",
            "source": [
                "حذف رکورد"
            ],
            "metadata": {
                "azdata_cell_guid": "06130563-376b-4ae0-8c8d-8c46ff496307"
            }
        },
        {
            "cell_type": "code",
            "source": [
                "USE SQLClass\r\n",
                "GO\r\n",
                "\r\n",
                "DELETE\r\n",
                "FROM\r\n",
                "\tdbo.Employee\r\n",
                "WHERE\r\n",
                "\tID = 3\r\n",
                "GO\r\n",
                "\r\n",
                "DELETE \r\n",
                "\tdbo.City\r\n",
                "WHERE\r\n",
                "\tID = 3"
            ],
            "metadata": {
                "azdata_cell_guid": "fe60350d-1f84-4ab2-b22d-a38ba6ae5863"
            },
            "outputs": [],
            "execution_count": null
        },
        {
            "cell_type": "markdown",
            "source": [
                "دستور:\n",
                "\n",
                "**LEFT OUTER JOIN**"
            ],
            "metadata": {
                "azdata_cell_guid": "8b9dc7a3-21fd-4fe5-a098-0a1f59597df1"
            }
        },
        {
            "cell_type": "code",
            "source": [
                "USE SQLClass\r\n",
                "GO\r\n",
                "\r\n",
                "SELECT \r\n",
                "\t*\r\n",
                "FROM\r\n",
                "\tdbo.Employee AS E\r\n",
                "LEFT OUTER JOIN\r\n",
                "\tdbo.City AS C\r\n",
                "ON\r\n",
                "\tE.CityID = C.ID"
            ],
            "metadata": {
                "azdata_cell_guid": "f1d14551-a376-4cca-8365-27a2ee5b2bba"
            },
            "outputs": [],
            "execution_count": null
        },
        {
            "cell_type": "markdown",
            "source": [
                "دستور: \n",
                "\n",
                "**RIGHT OUTER JOIN**"
            ],
            "metadata": {
                "azdata_cell_guid": "251e7698-ee25-4bde-836d-81d51be4abb8"
            }
        },
        {
            "cell_type": "code",
            "source": [
                "USE SQLClass\r\n",
                "GO\r\n",
                "\r\n",
                "SELECT \r\n",
                "\t*\r\n",
                "FROM\r\n",
                "\tdbo.Employee AS E\r\n",
                "RIGHT OUTER JOIN\r\n",
                "\tdbo.City AS C\r\n",
                "ON\r\n",
                "\tE.CityID = C.ID"
            ],
            "metadata": {
                "azdata_cell_guid": "89bd98c0-6063-48f0-9590-8e2494459034"
            },
            "outputs": [],
            "execution_count": null
        },
        {
            "cell_type": "markdown",
            "source": [
                "دستور: \n",
                "\n",
                "**FULL OUTER JOIN**"
            ],
            "metadata": {
                "azdata_cell_guid": "4bc9e515-7160-457d-8d24-9d4911edd378"
            }
        },
        {
            "cell_type": "code",
            "source": [
                "USE SQLClass\r\n",
                "GO\r\n",
                "\r\n",
                "SELECT \r\n",
                "\t*\r\n",
                "FROM\r\n",
                "\tdbo.Employee AS E\r\n",
                "FULL OUTER JOIN\r\n",
                "\tdbo.City AS C\r\n",
                "ON\r\n",
                "\tE.CityID = C.ID"
            ],
            "metadata": {
                "azdata_cell_guid": "42f9f09a-79c8-4c09-8ebb-98e71f1e6e9e"
            },
            "outputs": [],
            "execution_count": null
        }
    ]
}