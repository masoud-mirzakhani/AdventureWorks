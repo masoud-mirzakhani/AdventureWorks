{
    "metadata": {
        "kernelspec": {
            "name": "SQL",
            "display_name": "SQL",
            "language": "sql"
        },
        "language_info": {
            "name": "sql",
            "version": ""
        }
    },
    "nbformat_minor": 2,
    "nbformat": 4,
    "cells": [
        {
            "cell_type": "markdown",
            "source": [
                "دستور: SELECT \r\n",
                "\r\n",
                "انتخاب تمامی ستون های یک جدول"
            ],
            "metadata": {
                "azdata_cell_guid": "97b6fa76-78ab-41ea-87a2-25cd05c979c2"
            }
        },
        {
            "cell_type": "code",
            "source": [
                "USE AdventureWorks2017\r\n",
                "GO\r\n",
                "\r\n",
                "SELECT \r\n",
                "\t*\r\n",
                "FROM\r\n",
                "\tPerson.Person"
            ],
            "metadata": {
                "azdata_cell_guid": "df8d51a2-529e-435a-910d-df79e53aba7d"
            },
            "outputs": [],
            "execution_count": null
        },
        {
            "cell_type": "markdown",
            "source": [
                "نام گذاری ستون ها: aliasing"
            ],
            "metadata": {
                "azdata_cell_guid": "af9e801c-27df-4761-8e6e-e49e1982a4d3"
            }
        },
        {
            "cell_type": "code",
            "source": [
                "USE AdventureWorks2017\r\n",
                "GO\r\n",
                "\r\n",
                "SELECT \r\n",
                "\tBusinessEntityID, \r\n",
                "\tPersonType,\r\n",
                "\tNameStyle,\r\n",
                "\tTitle,\r\n",
                "\tFirstName\r\n",
                "\tLastName,\r\n",
                "\r\n",
                "\t123 AS FixNumber1,\r\n",
                "\t456 AS FixNumber2,\r\n",
                "\t789 AS FixNumber3,\r\n",
                "\r\n",
                "\t'ali' FixString1,\r\n",
                "\t'ahmad' FixString2,\r\n",
                "\r\n",
                "\t'2020-01-01',\r\n",
                "\r\n",
                "\tCurrentTime = GETDATE(),\r\n",
                "\r\n",
                "\t33/11,\r\n",
                "\tBusinessEntityID * EmailPromotion,\r\n",
                "\tBusinessEntityID % 100,\r\n",
                "\r\n",
                "\t10 + 20,\r\n",
                "\t'a'+'b',\r\n",
                "\tFirstName + ' ' + LastName\r\n",
                "FROM\r\n",
                "\tPerson.Person"
            ],
            "metadata": {
                "azdata_cell_guid": "6b4e79f0-1ed9-4f3d-8133-1ef5a722ceb4"
            },
            "outputs": [],
            "execution_count": null
        },
        {
            "cell_type": "markdown",
            "source": [
                "دستور: WHERE\r\n",
                "\r\n",
                "فیلتر کردن ردیف ها پس از مرحله: FROM"
            ],
            "metadata": {
                "azdata_cell_guid": "041c5ef1-6edb-40cf-948a-cbccb1848af7"
            }
        },
        {
            "cell_type": "code",
            "source": [
                "USE AdventureWorks2017\r\n",
                "GO\r\n",
                "\r\n",
                "SELECT\r\n",
                "\t*\r\n",
                "FROM\r\n",
                "\tPerson.Person\r\n",
                "WHERE\r\n",
                "\tPersonType = 'EM'"
            ],
            "metadata": {
                "azdata_cell_guid": "356e3136-a467-47a5-b33c-2d1f011ac99b"
            },
            "outputs": [],
            "execution_count": null
        },
        {
            "cell_type": "code",
            "source": [
                "USE AdventureWorks2017\r\n",
                "GO\r\n",
                "\r\n",
                "SELECT\r\n",
                "\t*\r\n",
                "FROM\r\n",
                "\tPerson.Person\r\n",
                "WHERE\r\n",
                "\tPersonType = 'EM'\r\n",
                "\tOR \r\n",
                "\tTitle = 'Mr.'"
            ],
            "metadata": {
                "azdata_cell_guid": "9dc96148-2b34-4431-b18e-6c63966842ac"
            },
            "outputs": [],
            "execution_count": null
        },
        {
            "cell_type": "code",
            "source": [
                "USE AdventureWorks2017\r\n",
                "GO\r\n",
                "\r\n",
                "SELECT\r\n",
                "\t*\r\n",
                "FROM\r\n",
                "\tPerson.Person\r\n",
                "WHERE\r\n",
                "\tPersonType = 'EM'\r\n",
                "\tAND\r\n",
                "\tTitle = 'Mr.'"
            ],
            "metadata": {
                "azdata_cell_guid": "15cf754e-ea9a-4679-8f70-45cfcb4c1923"
            },
            "outputs": [],
            "execution_count": null
        },
        {
            "cell_type": "code",
            "source": [
                "USE AdventureWorks2017\r\n",
                "GO\r\n",
                "\r\n",
                "SELECT\r\n",
                "\t*\r\n",
                "FROM\r\n",
                "\tPerson.Person\r\n",
                "WHERE\r\n",
                "\tPersonType = 'EM'\r\n",
                "\tAND\r\n",
                "\tTitle <> 'Mr.'"
            ],
            "metadata": {
                "azdata_cell_guid": "a94f85ed-33f1-4088-9f9d-fe8b8cf93863"
            },
            "outputs": [],
            "execution_count": null
        },
        {
            "cell_type": "code",
            "source": [
                "USE AdventureWorks2017\r\n",
                "GO\r\n",
                "\r\n",
                "SELECT\r\n",
                "\t*\r\n",
                "FROM\r\n",
                "\tPerson.Person\r\n",
                "WHERE\r\n",
                "\tFirstName LIKE 'Ken'"
            ],
            "metadata": {
                "azdata_cell_guid": "7180ce9b-f26e-4c2a-8031-c9ffd3efb1a6",
                "tags": []
            },
            "outputs": [],
            "execution_count": null
        },
        {
            "cell_type": "code",
            "source": [
                "USE AdventureWorks2017\r\n",
                "GO\r\n",
                "\r\n",
                "SELECT\r\n",
                "\t*\r\n",
                "FROM\r\n",
                "\tPerson.Person\r\n",
                "WHERE\r\n",
                "\tFirstName LIKE 'K%'"
            ],
            "metadata": {
                "azdata_cell_guid": "8e4afdf5-6bf2-43da-aeb3-a62e3087905f"
            },
            "outputs": [],
            "execution_count": null
        },
        {
            "cell_type": "code",
            "source": [
                "USE AdventureWorks2017\r\n",
                "GO\r\n",
                "\r\n",
                "SELECT\r\n",
                "\t*\r\n",
                "FROM\r\n",
                "\tPerson.Person\r\n",
                "WHERE\r\n",
                "\tFirstName LIKE 'K%n'"
            ],
            "metadata": {
                "azdata_cell_guid": "a66d165d-a554-48bc-8aeb-9e917dfd7ae5"
            },
            "outputs": [],
            "execution_count": null
        },
        {
            "cell_type": "code",
            "source": [
                "USE AdventureWorks2017\r\n",
                "GO\r\n",
                "\r\n",
                "SELECT\r\n",
                "\t*\r\n",
                "FROM\r\n",
                "\tPerson.Person\r\n",
                "WHERE\r\n",
                "\tFirstName NOT LIKE 'K%n'"
            ],
            "metadata": {
                "azdata_cell_guid": "26d151e3-edc5-4ff8-8f78-a5cc8f8db875"
            },
            "outputs": [],
            "execution_count": null
        },
        {
            "cell_type": "code",
            "source": [
                "USE AdventureWorks2017\r\n",
                "GO\r\n",
                "\r\n",
                "SELECT\r\n",
                "\t*\r\n",
                "FROM\r\n",
                "\tPerson.Person\r\n",
                "WHERE\r\n",
                "\tFirstName LIKE '_e%'"
            ],
            "metadata": {
                "azdata_cell_guid": "576951a9-d987-44a8-97da-0e4723f831e1"
            },
            "outputs": [],
            "execution_count": null
        },
        {
            "cell_type": "code",
            "source": [
                "USE AdventureWorks2017\r\n",
                "GO\r\n",
                "\r\n",
                "SELECT\r\n",
                "\t*\r\n",
                "FROM\r\n",
                "\tPerson.Person\r\n",
                "WHERE\r\n",
                "\tFirstName LIKE '%e%'"
            ],
            "metadata": {
                "azdata_cell_guid": "a41e83d1-fd42-49ce-966e-d8496ae64814"
            },
            "outputs": [],
            "execution_count": null
        },
        {
            "cell_type": "markdown",
            "source": [
                "ساخت جداول تستی"
            ],
            "metadata": {
                "azdata_cell_guid": "b8d40a12-b263-4b0b-b039-fbac24fa6288"
            }
        },
        {
            "cell_type": "code",
            "source": [
                "USE SQLClass\r\n",
                "GO\r\n",
                "\r\n",
                "CREATE TABLE dbo.Employee\r\n",
                "(\r\n",
                "\tID\t\t\tINT,\r\n",
                "\tFullName\tVARCHAR(50),\r\n",
                "\tCityID\t\tINT\r\n",
                ")\r\n",
                "GO\r\n",
                "\r\n",
                "CREATE TABLE dbo.City\r\n",
                "(\r\n",
                "\tID INT,\r\n",
                "\tCityName VARCHAR(50)\r\n",
                ")"
            ],
            "metadata": {
                "azdata_cell_guid": "52009f05-6dfc-408d-8576-f96a3eaebc75"
            },
            "outputs": [],
            "execution_count": null
        },
        {
            "cell_type": "markdown",
            "source": [
                "وارد کردن اطلاعات"
            ],
            "metadata": {
                "azdata_cell_guid": "442d34b1-0bf9-42f2-a2cd-77b2f8b5120c"
            }
        },
        {
            "cell_type": "code",
            "source": [
                "USE SQLClass\r\n",
                "GO\r\n",
                "\r\n",
                "INSERT INTO dbo.City\r\n",
                "(\r\n",
                "\tID,\r\n",
                "\tCityName\r\n",
                ")\r\n",
                "VALUES\r\n",
                "\t(3, 'Tehran'),\r\n",
                "\t(4, 'Shiraz'),\r\n",
                "\t(5, 'Tabriz')\r\n",
                "GO\r\n",
                "\r\n",
                "INSERT INTO dbo.Employee\r\n",
                "(\r\n",
                "\tID,\r\n",
                "\tFullName,\r\n",
                "\tCityID\r\n",
                ")\r\n",
                "VALUES\r\n",
                "\t(1, 'Ali', 3),\r\n",
                "\t(2, 'Omid', 4),\r\n",
                "\t(3, 'Reza', 5)"
            ],
            "metadata": {
                "azdata_cell_guid": "b0b9ff7a-eec2-41ed-b766-95a8388454c6"
            },
            "outputs": [],
            "execution_count": null
        },
        {
            "cell_type": "markdown",
            "source": [
                "دستور: CROSS JOIN"
            ],
            "metadata": {
                "azdata_cell_guid": "f0367833-89cd-4c58-89d1-a2d80ab7eaf3"
            }
        },
        {
            "cell_type": "code",
            "source": [
                "USE SQLClass\r\n",
                "GO\r\n",
                "\r\n",
                "SELECT\r\n",
                "\t*\r\n",
                "FROM\r\n",
                "\tdbo.Employee\r\n",
                "CROSS JOIN\r\n",
                "\tdbo.City"
            ],
            "metadata": {
                "azdata_cell_guid": "dc472fea-8434-48d1-b83f-a51a6c075490"
            },
            "outputs": [],
            "execution_count": null
        },
        {
            "cell_type": "code",
            "source": [
                "USE SQLClass\r\n",
                "GO\r\n",
                "\r\n",
                "SELECT\r\n",
                "\t*\r\n",
                "FROM\r\n",
                "\tdbo.Employee\r\n",
                "CROSS JOIN\r\n",
                "\tdbo.City\r\n",
                "WHERE\r\n",
                "\tdbo.Employee.CityID = dbo.City.ID"
            ],
            "metadata": {
                "azdata_cell_guid": "6e1f7afc-adf7-44a9-b52e-ba5d9147f6a0"
            },
            "outputs": [],
            "execution_count": null
        },
        {
            "cell_type": "code",
            "source": [
                "USE SQLClass\r\n",
                "GO\r\n",
                "\r\n",
                "SELECT\r\n",
                "\t*\r\n",
                "FROM\r\n",
                "\tdbo.Employee AS E\r\n",
                "CROSS JOIN\r\n",
                "\tdbo.City AS C\r\n",
                "WHERE\r\n",
                "\tE.CityID = C.ID"
            ],
            "metadata": {
                "azdata_cell_guid": "cd436688-7183-4ee5-8857-6b0d563066ba"
            },
            "outputs": [],
            "execution_count": null
        },
        {
            "cell_type": "code",
            "source": [
                "USE SQLClass\r\n",
                "GO\r\n",
                "\r\n",
                "SELECT\r\n",
                "\t*\r\n",
                "FROM\r\n",
                "\tdbo.Employee\r\n",
                "CROSS JOIN\r\n",
                "\tdbo.City\r\n",
                "WHERE\r\n",
                "\tdbo.Employee.ID = 1"
            ],
            "metadata": {
                "azdata_cell_guid": "ed58516d-6778-43f5-8151-9aace2a7ebbf"
            },
            "outputs": [],
            "execution_count": null
        },
        {
            "cell_type": "markdown",
            "source": [
                "دستور: INNER JOIN"
            ],
            "metadata": {
                "azdata_cell_guid": "2409dcec-56f0-48b1-837b-fa7bc2185df8"
            }
        },
        {
            "cell_type": "code",
            "source": [
                "USE SQLClass\r\n",
                "GO\r\n",
                "\r\n",
                "SELECT \r\n",
                "\t*\r\n",
                "FROM\r\n",
                "\tdbo.Employee AS E\r\n",
                "CROSS JOIN\r\n",
                "\tdbo.City AS C\r\n",
                "WHERE\r\n",
                "\tE.CityID = C.ID"
            ],
            "metadata": {
                "azdata_cell_guid": "be894841-1070-4e18-bde4-4218ae56d1de"
            },
            "outputs": [],
            "execution_count": null
        },
        {
            "cell_type": "code",
            "source": [
                "USE SQLClass\r\n",
                "GO\r\n",
                "\r\n",
                "SELECT \r\n",
                "\t*\r\n",
                "FROM\r\n",
                "\tdbo.Employee AS E\r\n",
                "INNER JOIN\r\n",
                "\tdbo.City AS C\r\n",
                "ON\r\n",
                "\tE.CityID = C.ID"
            ],
            "metadata": {
                "azdata_cell_guid": "a684cb07-cb88-4410-beaf-b339e827935e"
            },
            "outputs": [],
            "execution_count": null
        },
        {
            "cell_type": "code",
            "source": [
                "حذف رکورد"
            ],
            "metadata": {
                "azdata_cell_guid": "3244872d-c7f2-4d6f-9eb2-202e7c4e2741"
            },
            "outputs": [],
            "execution_count": null
        },
        {
            "cell_type": "code",
            "source": [
                "USE SQLClass\r\n",
                "GO\r\n",
                "\r\n",
                "DELETE\r\n",
                "FROM\r\n",
                "\tdbo.Employee\r\n",
                "WHERE\r\n",
                "\tID = 3\r\n",
                "GO\r\n",
                "\r\n",
                "DELETE \r\n",
                "\tdbo.City\r\n",
                "WHERE\r\n",
                "\tID = 3"
            ],
            "metadata": {
                "azdata_cell_guid": "84d529f3-d68b-425d-b7fe-3996a369b327"
            },
            "outputs": [],
            "execution_count": null
        },
        {
            "cell_type": "markdown",
            "source": [
                "دستور: LEFT OUTER JOIN"
            ],
            "metadata": {
                "azdata_cell_guid": "4a5210c5-974a-4eed-be92-c3395e5287a6"
            }
        },
        {
            "cell_type": "code",
            "source": [
                "USE SQLClass\r\n",
                "GO\r\n",
                "\r\n",
                "SELECT \r\n",
                "\t*\r\n",
                "FROM\r\n",
                "\tdbo.Employee AS E\r\n",
                "LEFT OUTER JOIN\r\n",
                "\tdbo.City AS C\r\n",
                "ON\r\n",
                "\tE.CityID = C.ID"
            ],
            "metadata": {
                "azdata_cell_guid": "b4e6acf6-49b3-4677-b32c-0262a9beca41"
            },
            "outputs": [],
            "execution_count": null
        },
        {
            "cell_type": "markdown",
            "source": [
                "دستور: RIGHT OUTER JOIN"
            ],
            "metadata": {
                "azdata_cell_guid": "02999761-e182-4124-af92-ed9ad1f4e9c8"
            }
        },
        {
            "cell_type": "code",
            "source": [
                "USE SQLClass\r\n",
                "GO\r\n",
                "\r\n",
                "SELECT \r\n",
                "\t*\r\n",
                "FROM\r\n",
                "\tdbo.Employee AS E\r\n",
                "RIGHT OUTER JOIN\r\n",
                "\tdbo.City AS C\r\n",
                "ON\r\n",
                "\tE.CityID = C.ID"
            ],
            "metadata": {
                "azdata_cell_guid": "196663b1-bcdb-40dd-8524-bf24b5a6b2ae"
            },
            "outputs": [],
            "execution_count": null
        },
        {
            "cell_type": "markdown",
            "source": [
                "دستور: RIGHT FULL JOIN"
            ],
            "metadata": {
                "azdata_cell_guid": "5ba17913-8c83-4faf-a31e-219eb52fe824"
            }
        },
        {
            "cell_type": "code",
            "source": [
                "USE SQLClass\r\n",
                "GO\r\n",
                "\r\n",
                "SELECT \r\n",
                "\t*\r\n",
                "FROM\r\n",
                "\tdbo.Employee AS E\r\n",
                "FULL OUTER JOIN\r\n",
                "\tdbo.City AS C\r\n",
                "ON\r\n",
                "\tE.CityID = C.ID"
            ],
            "metadata": {
                "azdata_cell_guid": "e8b1ac8a-7333-4b8a-8227-dce0da944ad8"
            },
            "outputs": [],
            "execution_count": null
        }
    ]
}