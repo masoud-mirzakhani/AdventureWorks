{
    "metadata": {
        "kernelspec": {
            "name": "SQL",
            "display_name": "SQL",
            "language": "sql"
        },
        "language_info": {
            "name": "sql",
            "version": ""
        }
    },
    "nbformat_minor": 2,
    "nbformat": 4,
    "cells": [
        {
            "cell_type": "markdown",
            "source": [
                "حذف پایگاه داده"
            ],
            "metadata": {
                "azdata_cell_guid": "48c8a797-d3eb-4d55-8165-c8862d6a3229"
            }
        },
        {
            "cell_type": "code",
            "source": [
                "DROP DATABASE SQLCLass"
            ],
            "metadata": {
                "azdata_cell_guid": "ead7c488-de83-47f7-ab3c-b1f61698755f"
            },
            "outputs": [],
            "execution_count": null
        },
        {
            "cell_type": "markdown",
            "source": [
                "ساخت پایگاه داده"
            ],
            "metadata": {
                "azdata_cell_guid": "cfc21641-d665-4570-b03f-944051d2a6bd"
            }
        },
        {
            "cell_type": "code",
            "source": [
                "CREATE DATABASE SQLCLass"
            ],
            "metadata": {
                "azdata_cell_guid": "a0ea644d-6649-4977-ac34-28fc7244276f"
            },
            "outputs": [],
            "execution_count": null
        },
        {
            "cell_type": "markdown",
            "source": [
                "ساخت اسکیما\r\n",
                "\r\n",
                "اسکیمای پیش فرض: dbo"
            ],
            "metadata": {
                "azdata_cell_guid": "f510a367-459e-4cf8-816a-1dc9e76f9b69"
            }
        },
        {
            "cell_type": "code",
            "source": [
                "USE SQLClass\r\n",
                "GO\r\n",
                "\r\n",
                "CREATE SCHEMA SLS -- Sales\r\n",
                "GO\r\n",
                "\r\n",
                "CREATE SCHEMA INV -- Inventory"
            ],
            "metadata": {
                "azdata_cell_guid": "6a6150fb-9a4e-4ba6-92e0-9720ef141418"
            },
            "outputs": [],
            "execution_count": null
        },
        {
            "cell_type": "markdown",
            "source": [
                "ساخت و حذف جدول\r\n",
                "\r\n",
                "اسکیمای پیش فرض"
            ],
            "metadata": {
                "azdata_cell_guid": "2c619e6f-abec-455c-9c71-260d6d18909d"
            }
        },
        {
            "cell_type": "code",
            "source": [
                "USE SQLClass\r\n",
                "GO\r\n",
                "\r\n",
                "CREATE TABLE Test -- default schema: dbo\r\n",
                "(\r\n",
                "\tID INT\r\n",
                ")\r\n",
                "\r\n",
                "\r\n",
                "DROP TABLE dbo.Test -- default schema: dbo"
            ],
            "metadata": {
                "azdata_cell_guid": "34b04712-f6db-4e5c-b5b6-bc778b4e0c9d"
            },
            "outputs": [],
            "execution_count": null
        },
        {
            "cell_type": "markdown",
            "source": [
                "ساخت و حذف جدول\r\n",
                "\r\n",
                "کلید اصلی\r\n",
                "\r\n",
                "کلید یکتا: بهتر است از کلید یکتا استفاده نشود"
            ],
            "metadata": {
                "azdata_cell_guid": "8ef7c606-e30d-48f7-8947-43662f9440cb"
            }
        },
        {
            "cell_type": "code",
            "source": [
                "USE SQLClass\r\n",
                "GO\r\n",
                "\r\n",
                "CREATE TABLE SLS.Customer\r\n",
                "(\r\n",
                "\tID\t\t\t\tINT PRIMARY KEY IDENTITY(1,1),\t-- PK: NOT NULL, UNIQUE, CLUSTERED INDEX\r\n",
                "\tCustomerCode\tVARCHAR(10) UNIQUE,\t\t\t\t-- UK: NOT NULL, UNIQUE, NON CLUSTERED INDEX (Best Practice: Do Not Use)\r\n",
                "\tFirstName\t\tVARCHAR(50)\tNOT NULL,\r\n",
                "\tLastName\t\tVARCHAR(60) NOT NULL\r\n",
                ")\r\n",
                "GO\r\n",
                "\r\n",
                "DROP TABLE SLS.Customer\r\n",
                "GO"
            ],
            "metadata": {
                "azdata_cell_guid": "caf4c56b-3b23-4427-af43-7766510789fe",
                "tags": []
            },
            "outputs": [],
            "execution_count": null
        },
        {
            "cell_type": "markdown",
            "source": [
                "ساخت و حذف جدول\r\n",
                "\r\n",
                "کلید اصلی\r\n",
                "\r\n",
                "استفاده از ایندکس یکتا به جای کلید یکتا"
            ],
            "metadata": {
                "azdata_cell_guid": "772c3b81-3c48-4813-8b52-0826488dbda6"
            }
        },
        {
            "cell_type": "code",
            "source": [
                "USE SQLClass\r\n",
                "GO\r\n",
                "\r\n",
                "CREATE TABLE SLS.Customer\r\n",
                "(\r\n",
                "\tID\t\t\t\tINT PRIMARY KEY IDENTITY(1,1),\t-- PK: NOT NULL, UNIQUE, CLUSTERED INDEX\r\n",
                "\tCustomerCode\tVARCHAR(10) NOT NULL,\r\n",
                "\tFirstName\t\tVARCHAR(50)\tNOT NULL,\r\n",
                "\tLastName\t\tVARCHAR(60) NOT NULL\r\n",
                ")\r\n",
                "GO\r\n",
                "\r\n",
                "CREATE UNIQUE NONCLUSTERED INDEX UIX_Customer\r\n",
                "ON SLS.Customer(CustomerCode)\r\n",
                "GO\r\n",
                "\r\n",
                "DROP TABLE SLS.Customer"
            ],
            "metadata": {
                "azdata_cell_guid": "5eb3f0cc-4bb5-4824-8be1-d22fa31b7e0c"
            },
            "outputs": [],
            "execution_count": null
        },
        {
            "cell_type": "markdown",
            "source": [
                "ساخت جداول توضیح داده شده"
            ],
            "metadata": {
                "azdata_cell_guid": "414ba17a-2a0e-4eba-ad1e-a4b1ec41bb37"
            }
        },
        {
            "cell_type": "code",
            "source": [
                "USE SQLClass\r\n",
                "GO\r\n",
                "\r\n",
                "CREATE TABLE SLS.Customer\r\n",
                "(\r\n",
                "\tID\t\t\t\tINT PRIMARY KEY IDENTITY(1,1), -- کلید اصلی و مقادیر خودکار، از 1 شروع می شود و یکی یکی اضافه می شود\r\n",
                "\tCustomerCode\tVARCHAR(10) NOT NULL,\r\n",
                "\tFirstName\t\tVARCHAR(50)\tNOT NULL,\r\n",
                "\tLastName\t\tVARCHAR(60) NOT NULL\r\n",
                ")\r\n",
                "GO\r\n",
                "\r\n",
                "-- ساخت ایندکس یکتا و غیر کلاستر بر روی\r\n",
                "-- جدول: SLS.Customer\r\n",
                "-- فیلد: CustomerCode\r\n",
                "CREATE UNIQUE NONCLUSTERED INDEX UIX_Customer\r\n",
                "ON SLS.Customer(CustomerCode)\r\n",
                "GO\r\n",
                "\r\n",
                "CREATE TABLE INV.Product\r\n",
                "(\r\n",
                "\tID\t\t\t\tINT PRIMARY KEY IDENTITY(1,1),\r\n",
                "\tProductCode\t\tVARCHAR(10) NOT NULL,\r\n",
                "\tProductName\t\tVARCHAR(50)\tNOT NULL\r\n",
                ")\r\n",
                "GO\r\n",
                "\r\n",
                "CREATE UNIQUE NONCLUSTERED INDEX UIX_Product\r\n",
                "ON INV.Product(ProductCode)\r\n",
                "GO\r\n",
                "\r\n",
                "\r\n",
                "CREATE TABLE SLS.FactorHeader\r\n",
                "(\r\n",
                "\tID\t\t\t\tINT PRIMARY KEY IDENTITY(1,1),\r\n",
                "\tFactorNumber\tINT NOT NULL,\r\n",
                "\tFactorDate\t\tDATETIME NOT NULL,\r\n",
                "\tCustomerID\t\tINT NOT NULL REFERENCES SLS.Customer(ID)\r\n",
                ")\r\n",
                "GO\r\n",
                "\r\n",
                "CREATE UNIQUE NONCLUSTERED INDEX UIX_FactorHeader\r\n",
                "ON SLS.FactorHeader(FactorNumber)\r\n",
                "GO\r\n",
                "\r\n",
                "\r\n",
                "CREATE TABLE SLS.FactorDetail\r\n",
                "(\r\n",
                "\tID\t\t\t\tINT PRIMARY KEY IDENTITY(1,1),\r\n",
                "\tFactorHeaderID\tINT NOT NULL REFERENCES SLS.FactorHeader(ID), -- ایجاد کلید خارجی\r\n",
                "\tRowNumber\t\tINT NOT NULL,\r\n",
                "\tProductID\t\tINT NOT NULL REFERENCES INV.Product(ID), -- ایجاد کلید خارجی\r\n",
                "\tUnitPrice\t\tDECIMAL(18, 3) NOT NULL,\r\n",
                "\tQuantity\t\tDECIMAL(18, 3) NOT NULL,\r\n",
                "\tTotalPrice\t\tDECIMAL(18, 3) NOT NULL\r\n",
                ")\r\n",
                "GO\r\n",
                "\r\n",
                "-- ساخت ایندکس یکتا و مرکب بر روی \r\n",
                "-- جدول: SLS.FactorDetail\r\n",
                "-- سنون های: FactorHeaderID, RowNumber\r\n",
                "CREATE UNIQUE NONCLUSTERED INDEX UIX_FactorDetail\r\n",
                "ON SLS.FactorDetail(FactorHeaderID, RowNumber)\r\n",
                "GO"
            ],
            "metadata": {
                "azdata_cell_guid": "3ab4e04e-c34f-4bd7-926e-cb8f66367f32"
            },
            "outputs": [],
            "execution_count": null
        }
    ]
}