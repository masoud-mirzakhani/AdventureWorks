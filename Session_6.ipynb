{
    "metadata": {
        "kernelspec": {
            "name": "SQL",
            "display_name": "SQL",
            "language": "sql"
        },
        "language_info": {
            "name": "sql",
            "version": ""
        }
    },
    "nbformat_minor": 2,
    "nbformat": 4,
    "cells": [
        {
            "cell_type": "markdown",
            "source": [
                "دستور IN\r\n",
                "\r\n",
                "این دو کد با هم برابر هستند"
            ],
            "metadata": {
                "azdata_cell_guid": "2776775a-46d1-4f69-987f-89c47055eecd"
            }
        },
        {
            "cell_type": "code",
            "source": [
                "SELECT \r\n",
                "\t*\r\n",
                "FROM\r\n",
                "\tPerson.Person\r\n",
                "WHERE\r\n",
                "\tBusinessEntityID = 5\r\n",
                "\tOR\r\n",
                "\tBusinessEntityID = 10\r\n",
                "\tOR\r\n",
                "\tBusinessEntityID = 20"
            ],
            "metadata": {
                "azdata_cell_guid": "b0592c54-7c42-498d-82db-20038482f047"
            },
            "outputs": [],
            "execution_count": null
        },
        {
            "cell_type": "code",
            "source": [
                "SELECT \r\n",
                "\t*\r\n",
                "FROM\r\n",
                "\tPerson.Person\r\n",
                "WHERE\r\n",
                "\tBusinessEntityID IN (5, 10, 20)"
            ],
            "metadata": {
                "azdata_cell_guid": "69ad4012-79d8-4c55-b5cb-6a406ff9c953"
            },
            "outputs": [],
            "execution_count": null
        },
        {
            "cell_type": "markdown",
            "source": [
                "دستور NOT IN\r\n",
                "\r\n",
                "این دو کد با هم برابر هستند"
            ],
            "metadata": {
                "azdata_cell_guid": "bbc6bebe-5d0c-4049-b990-3b1904b0651c"
            }
        },
        {
            "cell_type": "code",
            "source": [
                "SELECT \r\n",
                "\t*\r\n",
                "FROM\r\n",
                "\tPerson.Person\r\n",
                "WHERE\r\n",
                "\tBusinessEntityID <> 5\r\n",
                "\tAND\r\n",
                "\tBusinessEntityID <> 10\r\n",
                "\tAND\r\n",
                "\tBusinessEntityID <> 20"
            ],
            "metadata": {
                "azdata_cell_guid": "a9ecc37d-ceec-4953-a346-9521f6a8a333"
            },
            "outputs": [],
            "execution_count": null
        },
        {
            "cell_type": "code",
            "source": [
                "SELECT \r\n",
                "\t*\r\n",
                "FROM\r\n",
                "\tPerson.Person\r\n",
                "WHERE\r\n",
                "\tBusinessEntityID NOT IN (5, 10, 20)"
            ],
            "metadata": {
                "azdata_cell_guid": "e6e7c5b1-e012-4d41-875b-b38caa894bb3"
            },
            "outputs": [],
            "execution_count": null
        },
        {
            "cell_type": "markdown",
            "source": [
                "Sub Query\r\n",
                "\r\n",
                "نوع اول\r\n",
                "\r\n",
                "Self Contained \r\n",
                "\r\n",
                "Scalar Valued\r\n",
                "\r\n",
                "\r\n",
                "مثال: مقدار فروش سالاه + درصد فروش هر سال از کل فروش"
            ],
            "metadata": {
                "azdata_cell_guid": "6110209b-9e13-498f-a81d-11acffedda1f"
            }
        },
        {
            "cell_type": "code",
            "source": [
                "SELECT \r\n",
                "\tYEAR(SOH.OrderDate)\t\t\t\t\tAS OredrYear,\r\n",
                "\tSUM(SOD.OrderQty * SOD.UnitPrice)\tAS YearSales,\r\n",
                "\t(\r\n",
                "\t\tSELECT \r\n",
                "\t\t\tSUM(OrderQty * UnitPrice)\r\n",
                "\t\tFROM\r\n",
                "\t\t\tSales.SalesOrderDetail\r\n",
                "\t)\t\t\t\t\t\t\t\t\tAS TotalSales,\r\n",
                "\r\n",
                "\tSUM(SOD.OrderQty * SOD.UnitPrice) / \r\n",
                "\t(\r\n",
                "\t\tSELECT \r\n",
                "\t\t\tSUM(OrderQty * UnitPrice)\r\n",
                "\t\tFROM\r\n",
                "\t\t\tSales.SalesOrderDetail\r\n",
                "\t) * 100\r\n",
                "FROM\r\n",
                "\tSales.SalesOrderHeader AS SOH\r\n",
                "INNER JOIN\r\n",
                "\tSales.SalesOrderDetail AS SOD\r\n",
                "ON\r\n",
                "\tSOH.SalesOrderID = SOD.SalesOrderID\r\n",
                "GROUP BY\r\n",
                "\tYEAR(SOH.OrderDate)\r\n",
                "ORDER BY\r\n",
                "\tOredrYear"
            ],
            "metadata": {
                "azdata_cell_guid": "856eeeeb-f8a1-445a-943c-f8c46a9d35e2",
                "tags": []
            },
            "outputs": [],
            "execution_count": null
        },
        {
            "cell_type": "markdown",
            "source": [
                "Sub Query\r\n",
                "\r\n",
                "نوع دوم\r\n",
                "\r\n",
                "Self Contained \r\n",
                "\r\n",
                "Multi Valued\r\n",
                "\r\n",
                "\r\n",
                "مثال: لیست اشخاصی که کارمند هستند\r\n",
                "\r\n",
                "این دو کویری با هم برابر هستند"
            ],
            "metadata": {
                "azdata_cell_guid": "56a5effc-fbab-43ca-84f7-f2f745fe0f95"
            }
        },
        {
            "cell_type": "code",
            "source": [
                "SELECT \r\n",
                "\tP.*\r\n",
                "FROM\r\n",
                "\tPerson.Person AS P\r\n",
                "INNER JOIN\r\n",
                "\tHumanResources.Employee AS E\r\n",
                "ON\r\n",
                "\tP.BusinessEntityID = E.BusinessEntityID"
            ],
            "metadata": {
                "azdata_cell_guid": "529a227c-4257-4f16-9475-e862901c10ee"
            },
            "outputs": [],
            "execution_count": null
        },
        {
            "cell_type": "code",
            "source": [
                "SELECT \r\n",
                "\t*\r\n",
                "FROM\r\n",
                "\tPerson.Person AS P\r\n",
                "WHERE\r\n",
                "\tBusinessEntityID IN (SELECT \r\n",
                "\t\t\t\t\t\t\tBusinessEntityID\r\n",
                "\t\t\t\t\t\tFROM\r\n",
                "\t\t\t\t\t\t\tHumanResources.Employee)"
            ],
            "metadata": {
                "azdata_cell_guid": "4940e313-e25b-42ac-a857-727fdcf5c93d"
            },
            "outputs": [],
            "execution_count": null
        },
        {
            "cell_type": "markdown",
            "source": [
                "مثال: لیست اشخاصی که کارمند نیستند\r\n",
                "\r\n",
                "این دو کویری با هم برابر هستند"
            ],
            "metadata": {
                "azdata_cell_guid": "226b9509-7d03-4ac9-bc32-41d6f13aa605"
            }
        },
        {
            "cell_type": "code",
            "source": [
                "SELECT \r\n",
                "\tP.*\r\n",
                "FROM\r\n",
                "\tPerson.Person AS P\r\n",
                "LEFT OUTER JOIN\r\n",
                "\tHumanResources.Employee AS E\r\n",
                "ON\r\n",
                "\tP.BusinessEntityID = E.BusinessEntityID\r\n",
                "WHERE\r\n",
                "\tE.BusinessEntityID IS NULL"
            ],
            "metadata": {
                "azdata_cell_guid": "c3e4afaa-22f9-4350-89e7-16d059269972"
            },
            "outputs": [],
            "execution_count": null
        },
        {
            "cell_type": "code",
            "source": [
                "SELECT \r\n",
                "\t*\r\n",
                "FROM\r\n",
                "\tPerson.Person AS P\r\n",
                "WHERE\r\n",
                "\tBusinessEntityID NOT IN (SELECT \r\n",
                "\t\t\t\t\t\t\t\tBusinessEntityID\r\n",
                "\t\t\t\t\t\t\tFROM\r\n",
                "\t\t\t\t\t\t\t\tHumanResources.Employee)"
            ],
            "metadata": {
                "azdata_cell_guid": "b6135123-1acb-4e7d-9464-ad52ac56342b"
            },
            "outputs": [],
            "execution_count": null
        },
        {
            "cell_type": "markdown",
            "source": [
                "Sub Query\r\n",
                "\r\n",
                "نوع سوم\r\n",
                "\r\n",
                "Correlated\r\n",
                "\r\n",
                "Scalar Valued\r\n",
                "\r\n",
                "\r\n",
                "مثال: فروش سالانه، به تفکیک فصل"
            ],
            "metadata": {
                "azdata_cell_guid": "e3090eae-7116-4143-8626-a9a6d73d8cb6"
            }
        },
        {
            "cell_type": "code",
            "source": [
                "SELECT \r\n",
                "\tYEAR(SOH.OrderDate)\t\t\t\t\tAS OrderYear,\r\n",
                "\t(\r\n",
                "\t\tSELECT \r\n",
                "\t\t\tSUM(I_SOD.OrderQty * I_SOD.UnitPrice)\r\n",
                "\t\tFROM\r\n",
                "\t\t\tSales.SalesOrderHeader AS I_SOH\r\n",
                "\t\tINNER JOIN\r\n",
                "\t\t\tSales.SalesOrderDetail AS I_SOD\r\n",
                "\t\tON\r\n",
                "\t\t\tI_SOH.SalesOrderID = I_SOD.SalesOrderID\r\n",
                "\t\tWHERE\r\n",
                "\t\t\t\tYEAR(I_SOH.OrderDate) = YEAR(SOH.OrderDate)\r\n",
                "\t\t\tAND DATEPART(QUARTER, I_SOH.OrderDate) = 1\r\n",
                "\t) AS Q1_Sales,\r\n",
                "\t(\r\n",
                "\t\tSELECT \r\n",
                "\t\t\tSUM(I_SOD.OrderQty * I_SOD.UnitPrice)\r\n",
                "\t\tFROM\r\n",
                "\t\t\tSales.SalesOrderHeader AS I_SOH\r\n",
                "\t\tINNER JOIN\r\n",
                "\t\t\tSales.SalesOrderDetail AS I_SOD\r\n",
                "\t\tON\r\n",
                "\t\t\tI_SOH.SalesOrderID = I_SOD.SalesOrderID\r\n",
                "\t\tWHERE\r\n",
                "\t\t\t\tYEAR(I_SOH.OrderDate) = YEAR(SOH.OrderDate)\r\n",
                "\t\t\tAND DATEPART(QUARTER, I_SOH.OrderDate) = 2\r\n",
                "\t) AS Q2_Sales,\r\n",
                "\t(\r\n",
                "\t\tSELECT \r\n",
                "\t\t\tSUM(I_SOD.OrderQty * I_SOD.UnitPrice)\r\n",
                "\t\tFROM\r\n",
                "\t\t\tSales.SalesOrderHeader AS I_SOH\r\n",
                "\t\tINNER JOIN\r\n",
                "\t\t\tSales.SalesOrderDetail AS I_SOD\r\n",
                "\t\tON\r\n",
                "\t\t\tI_SOH.SalesOrderID = I_SOD.SalesOrderID\r\n",
                "\t\tWHERE\r\n",
                "\t\t\t\tYEAR(I_SOH.OrderDate) = YEAR(SOH.OrderDate)\r\n",
                "\t\t\tAND DATEPART(QUARTER, I_SOH.OrderDate) = 3\r\n",
                "\t) AS Q3_Sales,\r\n",
                "\t(\r\n",
                "\t\tSELECT \r\n",
                "\t\t\tSUM(I_SOD.OrderQty * I_SOD.UnitPrice)\r\n",
                "\t\tFROM\r\n",
                "\t\t\tSales.SalesOrderHeader AS I_SOH\r\n",
                "\t\tINNER JOIN\r\n",
                "\t\t\tSales.SalesOrderDetail AS I_SOD\r\n",
                "\t\tON\r\n",
                "\t\t\tI_SOH.SalesOrderID = I_SOD.SalesOrderID\r\n",
                "\t\tWHERE\r\n",
                "\t\t\t\tYEAR(I_SOH.OrderDate) = YEAR(SOH.OrderDate)\r\n",
                "\t\t\tAND DATEPART(QUARTER, I_SOH.OrderDate) = 4\r\n",
                "\t) AS Q4_Sales\r\n",
                "FROM\r\n",
                "\tSales.SalesOrderHeader AS SOH\r\n",
                "INNER JOIN\r\n",
                "\tSales.SalesOrderDetail AS SOD\r\n",
                "ON\r\n",
                "\tSOH.SalesOrderID = SOD.SalesOrderID\r\n",
                "GROUP BY\r\n",
                "\tYEAR(SOH.OrderDate)\r\n",
                "ORDER BY\r\n",
                "\tOrderYear"
            ],
            "metadata": {
                "azdata_cell_guid": "0e4ced7c-bb2b-4fe9-86ae-54bf9723fec8"
            },
            "outputs": [],
            "execution_count": null
        },
        {
            "cell_type": "markdown",
            "source": [
                "Sub Query\r\n",
                "\r\n",
                "نوع چهارم\r\n",
                "\r\n",
                "Correlated\r\n",
                "\r\n",
                "Set Valued"
            ],
            "metadata": {
                "azdata_cell_guid": "8c39644d-603f-4be7-a7f1-cc1fc2f05aa6"
            }
        },
        {
            "cell_type": "markdown",
            "source": [
                "\r\n",
                "مثال: لیست افرادی که کارمند هستند\r\n",
                "\r\n",
                "+ EXISTS"
            ],
            "metadata": {
                "azdata_cell_guid": "274e5a02-8dae-437b-be89-0f6b43de8911"
            }
        },
        {
            "cell_type": "code",
            "source": [
                "SELECT \r\n",
                "\t*\r\n",
                "FROM\r\n",
                "\tPerson.Person AS P\r\n",
                "WHERE\r\n",
                "\tEXISTS (SELECT  \r\n",
                "\t\t\t\t*\r\n",
                "\t\t\tFROM\r\n",
                "\t\t\t\tHumanResources.Employee AS E\r\n",
                "\t\t\tWHERE\r\n",
                "\t\t\t\tP.BusinessEntityID = E.BusinessEntityID)"
            ],
            "metadata": {
                "azdata_cell_guid": "bc421ebb-e494-434e-9002-b74c9a05a6ca"
            },
            "outputs": [],
            "execution_count": null
        },
        {
            "cell_type": "markdown",
            "source": [
                "\r\n",
                "مثال: لیست افرادی که کارمند نیستند\r\n",
                "\r\n",
                "+ NOT EXISTS"
            ],
            "metadata": {
                "azdata_cell_guid": "e386e3c8-11d6-498c-8e24-e7ef759488da"
            }
        },
        {
            "cell_type": "code",
            "source": [
                "SELECT \r\n",
                "\t*\r\n",
                "FROM\r\n",
                "\tPerson.Person AS P\r\n",
                "WHERE\r\n",
                "\tNOT EXISTS (SELECT \r\n",
                "\t\t\t\t\t*\r\n",
                "\t\t\t\tFROM\r\n",
                "\t\t\t\t\tHumanResources.Employee AS E\r\n",
                "\t\t\t\tWHERE\r\n",
                "\t\t\t\t\tP.BusinessEntityID = E.BusinessEntityID)"
            ],
            "metadata": {
                "azdata_cell_guid": "f73e7c5d-7907-4a50-ab2e-6526365c293a"
            },
            "outputs": [],
            "execution_count": null
        },
        {
            "cell_type": "markdown",
            "source": [
                "مثال: دو مشتری برتر یک سال مشخص"
            ],
            "metadata": {
                "azdata_cell_guid": "b64df379-cda2-4322-9cce-2108501815fd"
            }
        },
        {
            "cell_type": "code",
            "source": [
                "SELECT TOP 2\r\n",
                "\tP.BusinessEntityID,\r\n",
                "\tP.FirstName,\r\n",
                "\tP.LastName,\r\n",
                "\tSUM(SOD.OrderQty * SOD.UnitPrice) AS TotalSales\r\n",
                "FROM\r\n",
                "\tSales.SalesOrderHeader AS SOH\r\n",
                "INNER JOIN\r\n",
                "\tSales.SalesOrderDetail AS SOD\r\n",
                "ON\t\r\n",
                "\tSOH.SalesOrderID = SOD.SalesOrderID\r\n",
                "INNER JOIN\r\n",
                "\tSales.Customer AS C\r\n",
                "ON\r\n",
                "\tSOH.CustomerID = C.CustomerID\r\n",
                "INNER JOIN\r\n",
                "\tPerson.Person AS P\r\n",
                "ON\r\n",
                "\tC.PersonID = P.BusinessEntityID\r\n",
                "WHERE\r\n",
                "\tYEAR(SOH.OrderDate) = 2011\r\n",
                "GROUP BY\r\n",
                "\tP.BusinessEntityID,\r\n",
                "\tP.FirstName,\r\n",
                "\tP.LastName\r\n",
                "ORDER BY\r\n",
                "\tTotalSales DESC"
            ],
            "metadata": {
                "azdata_cell_guid": "e44c0f83-6f4f-4fb2-b169-16c6bac4055d"
            },
            "outputs": [],
            "execution_count": null
        },
        {
            "cell_type": "markdown",
            "source": [
                "مثال: دو مشتری برتر هر سال\r\n",
                "\r\n",
                "+ CROSS APPLY"
            ],
            "metadata": {
                "azdata_cell_guid": "9c6f2e80-be22-4ad2-9309-4aaf06c67601"
            }
        },
        {
            "cell_type": "code",
            "source": [
                "SELECT \r\n",
                "\t*\r\n",
                "FROM\r\n",
                "\tSales.vwSales_Years AS Y\r\n",
                "CROSS APPLY\r\n",
                "\t(\r\n",
                "\t\tSELECT TOP 2\r\n",
                "\t\t\tP.BusinessEntityID,\r\n",
                "\t\t\tP.FirstName,\r\n",
                "\t\t\tP.LastName,\r\n",
                "\t\t\tSUM(SOD.OrderQty * SOD.UnitPrice) AS TotalSales\r\n",
                "\t\tFROM\r\n",
                "\t\t\tSales.SalesOrderHeader AS SOH\r\n",
                "\t\tINNER JOIN\r\n",
                "\t\t\tSales.SalesOrderDetail AS SOD\r\n",
                "\t\tON\t\r\n",
                "\t\t\tSOH.SalesOrderID = SOD.SalesOrderID\r\n",
                "\t\tINNER JOIN\r\n",
                "\t\t\tSales.Customer AS C\r\n",
                "\t\tON\r\n",
                "\t\t\tSOH.CustomerID = C.CustomerID\r\n",
                "\t\tINNER JOIN\r\n",
                "\t\t\tPerson.Person AS P\r\n",
                "\t\tON\r\n",
                "\t\t\tC.PersonID = P.BusinessEntityID\r\n",
                "\t\tWHERE\r\n",
                "\t\t\tYEAR(SOH.OrderDate) = Y.OrderYear\r\n",
                "\t\tGROUP BY\r\n",
                "\t\t\tP.BusinessEntityID,\r\n",
                "\t\t\tP.FirstName,\r\n",
                "\t\t\tP.LastName\r\n",
                "\t\tORDER BY\r\n",
                "\t\t\tTotalSales DESC\r\n",
                "\t) AS TopCustomers\r\n",
                "ORDER BY \r\n",
                "\tY.OrderYear"
            ],
            "metadata": {
                "azdata_cell_guid": "fe7642b6-72f1-4761-b944-057983f04c12"
            },
            "outputs": [],
            "execution_count": null
        },
        {
            "cell_type": "markdown",
            "source": [
                "فانکشن:\r\n",
                "\r\n",
                "دو مشتری برتر یک سال\r\n",
                "\r\n",
                "پارامتر ورودی:  سال"
            ],
            "metadata": {
                "azdata_cell_guid": "2dc2091c-91df-4372-bfd3-454b50356b75"
            }
        },
        {
            "cell_type": "code",
            "source": [
                "DROP FUNCTION IF EXISTS Sales.tvfTopCustomers\r\n",
                "GO\r\n",
                "\r\n",
                "CREATE FUNCTION Sales.tvfTopCustomers\r\n",
                "(\r\n",
                "    @Year INT,\r\n",
                "\t@N INT\r\n",
                ")\r\n",
                "RETURNS TABLE AS RETURN\r\n",
                "(\r\n",
                "    SELECT TOP(@N)\r\n",
                "\t\tP.BusinessEntityID,\r\n",
                "\t\tP.FirstName,\r\n",
                "\t\tP.LastName,\r\n",
                "\t\tSUM(SOD.OrderQty * SOD.UnitPrice) AS TotalSales\r\n",
                "\tFROM\r\n",
                "\t\tSales.SalesOrderHeader AS SOH\r\n",
                "\tINNER JOIN\r\n",
                "\t\tSales.SalesOrderDetail AS SOD\r\n",
                "\tON\t\r\n",
                "\t\tSOH.SalesOrderID = SOD.SalesOrderID\r\n",
                "\tINNER JOIN\r\n",
                "\t\tSales.Customer AS C\r\n",
                "\tON\r\n",
                "\t\tSOH.CustomerID = C.CustomerID\r\n",
                "\tINNER JOIN\r\n",
                "\t\tPerson.Person AS P\r\n",
                "\tON\r\n",
                "\t\tC.PersonID = P.BusinessEntityID\r\n",
                "\tWHERE\r\n",
                "\t\tYEAR(SOH.OrderDate) = @Year\r\n",
                "\tGROUP BY\r\n",
                "\t\tP.BusinessEntityID,\r\n",
                "\t\tP.FirstName,\r\n",
                "\t\tP.LastName\r\n",
                "\tORDER BY\r\n",
                "\t\tTotalSales DESC\r\n",
                ")"
            ],
            "metadata": {
                "azdata_cell_guid": "37fc2f6a-56ab-4916-8209-ac0bcea590d1"
            },
            "outputs": [],
            "execution_count": null
        },
        {
            "cell_type": "markdown",
            "source": [
                "مثال: دو مشتری برتر هر سال\r\n",
                "\r\n",
                "+ CROSS APPLY\r\n",
                "+ ّFunction"
            ],
            "metadata": {
                "azdata_cell_guid": "f79b2cb3-4fb6-4368-af24-e35152aa384d"
            }
        },
        {
            "cell_type": "code",
            "source": [
                "SELECT \r\n",
                "\t*\r\n",
                "FROM\r\n",
                "\tSales.vwSales_Years AS Y\r\n",
                "CROSS APPLY\r\n",
                "\tSales.tvfTopCustomers(Y.OrderYear, 2) AS  TC\r\n",
                "ORDER BY \r\n",
                "\tY.OrderYear"
            ],
            "metadata": {
                "azdata_cell_guid": "c40cd052-a425-492e-a050-d2b4752d5982"
            },
            "outputs": [],
            "execution_count": null
        },
        {
            "cell_type": "markdown",
            "source": [
                "مثال: دو مشتری برتر هر سال\r\n",
                "\r\n",
                "+  OUTER APPLY\r\n",
                "+ ّFunction"
            ],
            "metadata": {
                "azdata_cell_guid": "f7f50e66-281a-4aa6-b0c6-3fdcfa51cc6a"
            }
        },
        {
            "cell_type": "code",
            "source": [
                "WITH Years\r\n",
                "AS\r\n",
                "(\r\n",
                "\t\t\tSELECT 2010 AS OrderYear\r\n",
                "\tUNION\tSELECT 2011 AS OrderYear\r\n",
                "\tUNION\tSELECT 2012 AS OrderYear\r\n",
                "\tUNION\tSELECT 2013 AS OrderYear\r\n",
                "\tUNION\tSELECT 2014 AS OrderYear\r\n",
                "\tUNION\tSELECT 2015 AS OrderYear\r\n",
                "\r\n",
                ")\r\n",
                "\r\n",
                "SELECT \r\n",
                "\t*\r\n",
                "FROM\r\n",
                "\tYears AS Y\r\n",
                "OUTER APPLY\r\n",
                "\tSales.tvfTopCustomers(Y.OrderYear, 2) AS  TC\r\n",
                "ORDER BY \r\n",
                "\tY.OrderYear"
            ],
            "metadata": {
                "azdata_cell_guid": "dc74a711-82f4-4e64-84c0-2fd52b7fc229"
            },
            "outputs": [],
            "execution_count": null
        }
    ]
}