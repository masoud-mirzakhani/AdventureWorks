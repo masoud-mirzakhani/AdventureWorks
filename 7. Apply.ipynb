{
    "metadata": {
        "kernelspec": {
            "name": "SQL",
            "display_name": "SQL",
            "language": "sql"
        },
        "language_info": {
            "name": "sql",
            "version": ""
        }
    },
    "nbformat_minor": 2,
    "nbformat": 4,
    "cells": [
        {
            "cell_type": "markdown",
            "source": [
                "**مثال:** \n",
                "\n",
                "دو مشتری برتر یک سال مشخص"
            ],
            "metadata": {
                "azdata_cell_guid": "e2537c8c-dbf7-4075-807f-99339ea3a8d4"
            }
        },
        {
            "cell_type": "code",
            "source": [
                "SELECT TOP 2\r\n",
                "\tP.BusinessEntityID,\r\n",
                "\tP.FirstName,\r\n",
                "\tP.LastName,\r\n",
                "\tSUM(SOD.OrderQty * SOD.UnitPrice) AS TotalSales\r\n",
                "FROM\r\n",
                "\tSales.SalesOrderHeader AS SOH\r\n",
                "INNER JOIN\r\n",
                "\tSales.SalesOrderDetail AS SOD\r\n",
                "ON\t\r\n",
                "\tSOH.SalesOrderID = SOD.SalesOrderID\r\n",
                "INNER JOIN\r\n",
                "\tSales.Customer AS C\r\n",
                "ON\r\n",
                "\tSOH.CustomerID = C.CustomerID\r\n",
                "INNER JOIN\r\n",
                "\tPerson.Person AS P\r\n",
                "ON\r\n",
                "\tC.PersonID = P.BusinessEntityID\r\n",
                "WHERE\r\n",
                "\tYEAR(SOH.OrderDate) = 2011\r\n",
                "GROUP BY\r\n",
                "\tP.BusinessEntityID,\r\n",
                "\tP.FirstName,\r\n",
                "\tP.LastName\r\n",
                "ORDER BY\r\n",
                "\tTotalSales DESC"
            ],
            "metadata": {
                "azdata_cell_guid": "1fe8fc9d-ca85-4666-ba9f-a94a3f481172"
            },
            "outputs": [],
            "execution_count": null
        },
        {
            "cell_type": "markdown",
            "source": [
                "**مثال:**\n",
                "\n",
                " دو مشتری برتر هر سال\n",
                "\n",
                "-   **CROSS APPLY**"
            ],
            "metadata": {
                "azdata_cell_guid": "df689425-729d-4423-a904-d66f80cb05c6"
            }
        },
        {
            "cell_type": "code",
            "source": [
                "SELECT \r\n",
                "\t*\r\n",
                "FROM\r\n",
                "\tSales.vwSales_Years AS Y\r\n",
                "CROSS APPLY\r\n",
                "\t(\r\n",
                "\t\tSELECT TOP 2\r\n",
                "\t\t\tP.BusinessEntityID,\r\n",
                "\t\t\tP.FirstName,\r\n",
                "\t\t\tP.LastName,\r\n",
                "\t\t\tSUM(SOD.OrderQty * SOD.UnitPrice) AS TotalSales\r\n",
                "\t\tFROM\r\n",
                "\t\t\tSales.SalesOrderHeader AS SOH\r\n",
                "\t\tINNER JOIN\r\n",
                "\t\t\tSales.SalesOrderDetail AS SOD\r\n",
                "\t\tON\t\r\n",
                "\t\t\tSOH.SalesOrderID = SOD.SalesOrderID\r\n",
                "\t\tINNER JOIN\r\n",
                "\t\t\tSales.Customer AS C\r\n",
                "\t\tON\r\n",
                "\t\t\tSOH.CustomerID = C.CustomerID\r\n",
                "\t\tINNER JOIN\r\n",
                "\t\t\tPerson.Person AS P\r\n",
                "\t\tON\r\n",
                "\t\t\tC.PersonID = P.BusinessEntityID\r\n",
                "\t\tWHERE\r\n",
                "\t\t\tYEAR(SOH.OrderDate) = Y.OrderYear\r\n",
                "\t\tGROUP BY\r\n",
                "\t\t\tP.BusinessEntityID,\r\n",
                "\t\t\tP.FirstName,\r\n",
                "\t\t\tP.LastName\r\n",
                "\t\tORDER BY\r\n",
                "\t\t\tTotalSales DESC\r\n",
                "\t) AS TopCustomers\r\n",
                "ORDER BY \r\n",
                "\tY.OrderYear"
            ],
            "metadata": {
                "azdata_cell_guid": "85abc6f2-26dc-4a4f-86d6-a0946def4311"
            },
            "outputs": [],
            "execution_count": null
        },
        {
            "cell_type": "markdown",
            "source": [
                "**TVF:**\n",
                "\n",
                "دو مشتری برتر یک سال\n",
                "\n",
                "پارامتر ورودی: سال"
            ],
            "metadata": {
                "azdata_cell_guid": "fd9c0654-0196-4abf-b284-cdfba39492f4"
            }
        },
        {
            "cell_type": "code",
            "source": [
                "DROP FUNCTION IF EXISTS Sales.tvfTopCustomers\r\n",
                "GO\r\n",
                "\r\n",
                "CREATE FUNCTION Sales.tvfTopCustomers\r\n",
                "(\r\n",
                "    @Year INT,\r\n",
                "\t@N INT\r\n",
                ")\r\n",
                "RETURNS TABLE AS RETURN\r\n",
                "(\r\n",
                "    SELECT TOP(@N)\r\n",
                "\t\tP.BusinessEntityID,\r\n",
                "\t\tP.FirstName,\r\n",
                "\t\tP.LastName,\r\n",
                "\t\tSUM(SOD.OrderQty * SOD.UnitPrice) AS TotalSales\r\n",
                "\tFROM\r\n",
                "\t\tSales.SalesOrderHeader AS SOH\r\n",
                "\tINNER JOIN\r\n",
                "\t\tSales.SalesOrderDetail AS SOD\r\n",
                "\tON\t\r\n",
                "\t\tSOH.SalesOrderID = SOD.SalesOrderID\r\n",
                "\tINNER JOIN\r\n",
                "\t\tSales.Customer AS C\r\n",
                "\tON\r\n",
                "\t\tSOH.CustomerID = C.CustomerID\r\n",
                "\tINNER JOIN\r\n",
                "\t\tPerson.Person AS P\r\n",
                "\tON\r\n",
                "\t\tC.PersonID = P.BusinessEntityID\r\n",
                "\tWHERE\r\n",
                "\t\tYEAR(SOH.OrderDate) = @Year\r\n",
                "\tGROUP BY\r\n",
                "\t\tP.BusinessEntityID,\r\n",
                "\t\tP.FirstName,\r\n",
                "\t\tP.LastName\r\n",
                "\tORDER BY\r\n",
                "\t\tTotalSales DESC\r\n",
                ")"
            ],
            "metadata": {
                "azdata_cell_guid": "a01cafcd-c0c9-4bfd-9c12-3a5ad97b8825"
            },
            "outputs": [],
            "execution_count": null
        },
        {
            "cell_type": "markdown",
            "source": [
                "**مثال:**\n",
                "\n",
                "دو مشتری برتر هر سال\n",
                "\n",
                "-   **CROSS APPLY**\n",
                "-   **ّFunction**"
            ],
            "metadata": {
                "azdata_cell_guid": "4db9d6fc-cd15-43e1-8a1b-ebbb2b5ec4b5"
            }
        },
        {
            "cell_type": "code",
            "source": [
                "SELECT \r\n",
                "\t*\r\n",
                "FROM\r\n",
                "\tSales.vwSales_Years AS Y\r\n",
                "CROSS APPLY\r\n",
                "\tSales.tvfTopCustomers(Y.OrderYear, 2) AS  TC\r\n",
                "ORDER BY \r\n",
                "\tY.OrderYear"
            ],
            "metadata": {
                "azdata_cell_guid": "e894dbec-9007-403b-b865-0fcbb9cde5f8"
            },
            "outputs": [],
            "execution_count": null
        },
        {
            "cell_type": "markdown",
            "source": [
                "**مثال:**\n",
                "\n",
                " دو مشتری برتر هر سال\n",
                "\n",
                "-   **OUTER APPLY**\n",
                "-   **ّFunction**"
            ],
            "metadata": {
                "azdata_cell_guid": "dd0f6bde-a422-4a87-82da-49083cf5a302"
            }
        },
        {
            "cell_type": "code",
            "source": [
                "WITH Years\r\n",
                "AS\r\n",
                "(\r\n",
                "\t\t\tSELECT 2010 AS OrderYear\r\n",
                "\tUNION\tSELECT 2011 AS OrderYear\r\n",
                "\tUNION\tSELECT 2012 AS OrderYear\r\n",
                "\tUNION\tSELECT 2013 AS OrderYear\r\n",
                "\tUNION\tSELECT 2014 AS OrderYear\r\n",
                "\tUNION\tSELECT 2015 AS OrderYear\r\n",
                "\r\n",
                ")\r\n",
                "\r\n",
                "SELECT \r\n",
                "\t*\r\n",
                "FROM\r\n",
                "\tYears AS Y\r\n",
                "OUTER APPLY\r\n",
                "\tSales.tvfTopCustomers(Y.OrderYear, 2) AS  TC\r\n",
                "ORDER BY \r\n",
                "\tY.OrderYear"
            ],
            "metadata": {
                "azdata_cell_guid": "ba3ccc5f-0e62-4f07-adda-51d1924ff598"
            },
            "outputs": [],
            "execution_count": null
        }
    ]
}