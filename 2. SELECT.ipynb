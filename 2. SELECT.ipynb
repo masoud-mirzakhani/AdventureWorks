{
    "metadata": {
        "kernelspec": {
            "name": "SQL",
            "display_name": "SQL",
            "language": "sql"
        },
        "language_info": {
            "name": "sql",
            "version": ""
        }
    },
    "nbformat_minor": 2,
    "nbformat": 4,
    "cells": [
        {
            "cell_type": "markdown",
            "source": [
                "دیتابیس نمونه  \n",
                "\n",
                "  \n",
                "\n",
                "AdventureWorks2019"
            ],
            "metadata": {
                "azdata_cell_guid": "ff9d0d4e-70c8-4443-b372-0fb415195573"
            }
        },
        {
            "cell_type": "code",
            "source": [
                "USE AdventureWorks2019"
            ],
            "metadata": {
                "azdata_cell_guid": "69b802b4-f87c-498a-9d6f-60092ff3a125"
            },
            "outputs": [],
            "execution_count": null
        },
        {
            "cell_type": "markdown",
            "source": [
                "**SELECT**  \n",
                "\n",
                "انتخاب تمامی ستون های یک جدول"
            ],
            "metadata": {
                "azdata_cell_guid": "f98dbc64-4395-4187-8310-48eb7f3a3ced"
            }
        },
        {
            "cell_type": "code",
            "source": [
                "SELECT \r\n",
                "\t*\r\n",
                "FROM\r\n",
                "\tPerson.Person"
            ],
            "metadata": {
                "azdata_cell_guid": "55b615d9-1d35-40a6-8b28-1fc368a55b97"
            },
            "outputs": [],
            "execution_count": null
        },
        {
            "cell_type": "markdown",
            "source": [
                "نام گذاری ستون ها\n",
                "\n",
                "**aliasing**"
            ],
            "metadata": {
                "azdata_cell_guid": "338eaf42-6fce-4f28-9eed-b71c61a7a76a"
            }
        },
        {
            "cell_type": "code",
            "source": [
                "SELECT \r\n",
                "\tBusinessEntityID, \r\n",
                "\tPersonType,\r\n",
                "\tNameStyle,\r\n",
                "\tTitle,\r\n",
                "\tFirstName\r\n",
                "\tLastName,\r\n",
                "\r\n",
                "\t123 AS FixNumber1,\r\n",
                "\t456 AS FixNumber2,\r\n",
                "\t789 AS FixNumber3,\r\n",
                "\r\n",
                "\t'ali' FixString1,\r\n",
                "\t'ahmad' FixString2,\r\n",
                "\r\n",
                "\t'2020-01-01',\r\n",
                "\r\n",
                "\tCurrentTime = GETDATE(),\r\n",
                "\r\n",
                "\t33/11,\r\n",
                "\tBusinessEntityID * EmailPromotion,\r\n",
                "\tBusinessEntityID % 100,\r\n",
                "\r\n",
                "\t10 + 20,\r\n",
                "\t'a'+'b',\r\n",
                "\tFirstName + ' ' + LastName\r\n",
                "FROM\r\n",
                "\tPerson.Person"
            ],
            "metadata": {
                "azdata_cell_guid": "14ec027f-dfd7-403a-b42a-1bde491aa81a"
            },
            "outputs": [],
            "execution_count": null
        },
        {
            "cell_type": "markdown",
            "source": [
                "دستور: \n",
                "\n",
                "**WHERE**\n",
                "\n",
                "فیلتر کردن ردیف ها پس از مرحله  \n",
                "\n",
                "**FROM**"
            ],
            "metadata": {
                "azdata_cell_guid": "a474fc1a-9420-4164-baec-b990b41de155"
            }
        },
        {
            "cell_type": "code",
            "source": [
                "SELECT\r\n",
                "\t*\r\n",
                "FROM\r\n",
                "\tPerson.Person\r\n",
                "WHERE\r\n",
                "\tPersonType = 'EM'"
            ],
            "metadata": {
                "azdata_cell_guid": "fb81ba02-19eb-4a91-88fe-b16c8e8b7282"
            },
            "outputs": [],
            "execution_count": null
        },
        {
            "cell_type": "code",
            "source": [
                "SELECT\r\n",
                "\t*\r\n",
                "FROM\r\n",
                "\tPerson.Person\r\n",
                "WHERE\r\n",
                "\tPersonType = 'EM'\r\n",
                "\tOR \r\n",
                "\tTitle = 'Mr.'"
            ],
            "metadata": {
                "azdata_cell_guid": "cf8fc004-a200-4e72-afcf-06720bd4cf8b"
            },
            "outputs": [],
            "execution_count": null
        },
        {
            "cell_type": "code",
            "source": [
                "SELECT\r\n",
                "\t*\r\n",
                "FROM\r\n",
                "\tPerson.Person\r\n",
                "WHERE\r\n",
                "\tPersonType = 'EM'\r\n",
                "\tAND\r\n",
                "\tTitle = 'Mr.'"
            ],
            "metadata": {
                "azdata_cell_guid": "b7e55695-2314-4fba-8e4f-0a5a5b54a770"
            },
            "outputs": [],
            "execution_count": null
        },
        {
            "cell_type": "code",
            "source": [
                "SELECT\r\n",
                "\t*\r\n",
                "FROM\r\n",
                "\tPerson.Person\r\n",
                "WHERE\r\n",
                "\tPersonType = 'EM'\r\n",
                "\tAND\r\n",
                "\tTitle <> 'Mr.'"
            ],
            "metadata": {
                "azdata_cell_guid": "5f2fe9b8-8da7-4d53-ba8d-3ff41fc94750"
            },
            "outputs": [],
            "execution_count": null
        },
        {
            "cell_type": "code",
            "source": [
                "SELECT\r\n",
                "\t*\r\n",
                "FROM\r\n",
                "\tPerson.Person\r\n",
                "WHERE\r\n",
                "\tFirstName LIKE 'Ken'"
            ],
            "metadata": {
                "azdata_cell_guid": "ca5a26d4-3a77-4a64-a64e-813385761157"
            },
            "outputs": [],
            "execution_count": null
        },
        {
            "cell_type": "code",
            "source": [
                "SELECT\r\n",
                "\t*\r\n",
                "FROM\r\n",
                "\tPerson.Person\r\n",
                "WHERE\r\n",
                "\tFirstName LIKE 'K%'"
            ],
            "metadata": {
                "azdata_cell_guid": "42c09832-9adb-417f-9e24-72c8c6078461"
            },
            "outputs": [],
            "execution_count": null
        },
        {
            "cell_type": "code",
            "source": [
                "SELECT\r\n",
                "\t*\r\n",
                "FROM\r\n",
                "\tPerson.Person\r\n",
                "WHERE\r\n",
                "\tFirstName LIKE 'K%n'"
            ],
            "metadata": {
                "azdata_cell_guid": "ecd9707b-8e93-4009-b736-ee999740549a"
            },
            "outputs": [],
            "execution_count": null
        },
        {
            "cell_type": "code",
            "source": [
                "SELECT\r\n",
                "\t*\r\n",
                "FROM\r\n",
                "\tPerson.Person\r\n",
                "WHERE\r\n",
                "\tFirstName NOT LIKE 'K%n'"
            ],
            "metadata": {
                "azdata_cell_guid": "5a2f6d5a-c316-49da-9bc7-d6497bbb906f"
            },
            "outputs": [],
            "execution_count": null
        },
        {
            "cell_type": "code",
            "source": [
                "SELECT\r\n",
                "\t*\r\n",
                "FROM\r\n",
                "\tPerson.Person\r\n",
                "WHERE\r\n",
                "\tFirstName LIKE '_e%'"
            ],
            "metadata": {
                "azdata_cell_guid": "6552bc2d-55b4-44d4-a2b8-3b6f20ac9654"
            },
            "outputs": [],
            "execution_count": null
        },
        {
            "cell_type": "code",
            "source": [
                "SELECT\r\n",
                "\t*\r\n",
                "FROM\r\n",
                "\tPerson.Person\r\n",
                "WHERE\r\n",
                "\tFirstName LIKE '%e%'"
            ],
            "metadata": {
                "azdata_cell_guid": "8e3bd37a-3571-4e6b-bc50-19e3bb3284de"
            },
            "outputs": [],
            "execution_count": null
        }
    ]
}