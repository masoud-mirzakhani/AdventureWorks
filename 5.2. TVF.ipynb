{
    "metadata": {
        "kernelspec": {
            "name": "SQL",
            "display_name": "SQL",
            "language": "sql"
        },
        "language_info": {
            "name": "sql",
            "version": ""
        }
    },
    "nbformat_minor": 2,
    "nbformat": 4,
    "cells": [
        {
            "cell_type": "markdown",
            "source": [
                " **Inline TVF = Inline Table Valued Function**"
            ],
            "metadata": {
                "azdata_cell_guid": "71f565a9-197e-4a54-8be7-3b9d0347a1e0"
            }
        },
        {
            "cell_type": "markdown",
            "source": [
                "مساله:\n",
                "\n",
                "**فروش به تفکیک سال و فصل**\n",
                "\n",
                "**به صورت ماترسی**\n",
                "\n",
                "روش دوم:\n",
                "\n",
                "TVF+ JOIN"
            ],
            "metadata": {
                "azdata_cell_guid": "e1911d9a-a0b1-4d26-a314-5c1ccd1e4bb8"
            }
        },
        {
            "cell_type": "markdown",
            "source": [
                "ابتدا فانکشن را می سازیم"
            ],
            "metadata": {
                "azdata_cell_guid": "be289d60-aa9d-4aa1-a0a1-7594975dcb1c"
            }
        },
        {
            "cell_type": "code",
            "source": [
                "CREATE OR ALTER FUNCTION Sales.tvfSales_Q\r\n",
                "(\r\n",
                "    @Quarter INT\r\n",
                ")\r\n",
                "RETURNS TABLE \r\n",
                "AS \r\n",
                "RETURN\r\n",
                "(\r\n",
                "    SELECT \r\n",
                "\t\tYEAR(SOH.OrderDate)\t\t\t\t\tAS OrderYear,\r\n",
                "\t\tSUM(SOD.OrderQty * SOD.UnitPrice)\tAS Sales\r\n",
                "\tFROM\r\n",
                "\t\tSales.SalesOrderHeader AS SOH --31,465\r\n",
                "\tINNER JOIN\r\n",
                "\t\tSales.SalesOrderDetail AS SOD --121,317\r\n",
                "\tON\r\n",
                "\t\tSOH.SalesOrderID = SOD.SalesOrderID\r\n",
                "\tWHERE\r\n",
                "\t\tDATEPART(QUARTER, SOH.OrderDate) = @Quarter\r\n",
                "\tGROUP BY\r\n",
                "\t\tYEAR(SOH.OrderDate)\r\n",
                ")\r\n",
                "GO"
            ],
            "metadata": {
                "azdata_cell_guid": "06430874-b26e-4b4c-bae2-90b1150588b8"
            },
            "outputs": [],
            "execution_count": null
        },
        {
            "cell_type": "markdown",
            "source": [
                "پس از ساخت فانکشن از آن استفاده می کنیم"
            ],
            "metadata": {
                "azdata_cell_guid": "88f913e7-fff8-4e79-a7d5-6dc5181a76e5"
            }
        },
        {
            "cell_type": "code",
            "source": [
                "SELECT \r\n",
                "\tY.OrderYear,\r\n",
                "\tQ1.Sales AS Q1_Sales,\r\n",
                "\tQ2.Sales AS Q2_Sales,\r\n",
                "\tQ3.Sales AS Q3_Sales,\r\n",
                "\tQ4.Sales AS Q4_Sales\r\n",
                "FROM \r\n",
                "\tSales.vwSales_Years AS Y\r\n",
                "LEFT OUTER JOIN\r\n",
                "\tSales.tvfSales_Q(1) AS Q1\r\n",
                "ON\r\n",
                "\tY.OrderYear = Q1.OrderYear\r\n",
                "LEFT OUTER JOIN\r\n",
                "\tSales.tvfSales_Q(2) AS Q2\r\n",
                "ON\r\n",
                "\tY.OrderYear = Q2.OrderYear\r\n",
                "LEFT OUTER JOIN\r\n",
                "\tSales.tvfSales_Q(3) AS Q3\r\n",
                "ON\r\n",
                "\tY.OrderYear = Q3.OrderYear\r\n",
                "LEFT OUTER JOIN\r\n",
                "\tSales.tvfSales_Q(4) AS Q4\r\n",
                "ON\r\n",
                "\tY.OrderYear = Q4.OrderYear\r\n",
                "ORDER BY\r\n",
                "\tY.OrderYear"
            ],
            "metadata": {
                "azdata_cell_guid": "4a6b18d8-fac6-443a-a957-185dd72a3eeb"
            },
            "outputs": [],
            "execution_count": null
        }
    ]
}