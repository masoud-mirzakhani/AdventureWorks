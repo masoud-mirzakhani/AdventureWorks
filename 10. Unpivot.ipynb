{
    "metadata": {
        "kernelspec": {
            "name": "SQL",
            "display_name": "SQL",
            "language": "sql"
        },
        "language_info": {
            "name": "sql",
            "version": ""
        }
    },
    "nbformat_minor": 2,
    "nbformat": 4,
    "cells": [
        {
            "cell_type": "markdown",
            "source": [
                "**مثال:**  \n",
                "  \n",
                "جایجایی اطلاعات از چندین ستون به یک ستون  \n",
                "  \n",
                "\n",
                "روش اول:\n",
                "\n",
                "**UNION**"
            ],
            "metadata": {
                "azdata_cell_guid": "8d60c126-676e-4ba6-a1d8-1c98d61f7a09"
            }
        },
        {
            "cell_type": "code",
            "source": [
                "SELECT\r\n",
                "\tBusinessEntityID,\r\n",
                "\t1\t\t\t\t\tAS ColumnOrder,\r\n",
                "\t'FirstName'\t\t\tAS ColumnTitle,\r\n",
                "\tFirstName\t\t\tAS ColumnValue\r\n",
                "FROM\r\n",
                "\tPerson.Person\r\n",
                "\r\n",
                "UNION ALL\r\n",
                "SELECT\r\n",
                "\tBusinessEntityID,\r\n",
                "\t2\t\t\t\t\tAS ColumnOrder,\r\n",
                "\t'MiddleName'\t\tAS ColumnTitle,\r\n",
                "\tMiddleName\t\t\tAS ColumnValue\r\n",
                "FROM\r\n",
                "\tPerson.Person\r\n",
                "\r\n",
                "UNION ALL\r\n",
                "SELECT\r\n",
                "\tBusinessEntityID,\r\n",
                "\t3\t\t\t\t\tAS ColumnOrder,\r\n",
                "\t'LastName'\t\t\tAS ColumnTitle,\r\n",
                "\tLastName\t\t\tAS ColumnValue\r\n",
                "FROM\r\n",
                "\tPerson.Person\r\n",
                "ORDER BY \r\n",
                "\tBusinessEntityID,\r\n",
                "\tColumnOrder"
            ],
            "metadata": {
                "azdata_cell_guid": "d5f94cb5-f5ba-4449-918f-0474c132d971"
            },
            "outputs": [],
            "execution_count": null
        },
        {
            "cell_type": "markdown",
            "source": [
                "روش دوم:\n",
                "\n",
                "  \n",
                "\n",
                "**CROSS JOIN**"
            ],
            "metadata": {
                "azdata_cell_guid": "371133f8-b9ee-4695-9008-c77af5d504d4"
            }
        },
        {
            "cell_type": "code",
            "source": [
                "WITH Columns\r\n",
                "AS\r\n",
                "(\r\n",
                "\tSELECT \r\n",
                "\t\t1 AS ColumnOrder,\r\n",
                "\t\t'FirstName'\t\t\tAS ColumnTitle\r\n",
                "\t\r\n",
                "\tUNION ALL\r\n",
                "\tSELECT \r\n",
                "\t\t2 AS ColumnOrder,\r\n",
                "\t\t'MiddleName'\t\tAS ColumnTitle\r\n",
                "\r\n",
                "\tUNION ALL\r\n",
                "\tSELECT \r\n",
                "\t\t3 AS ColumnOrder,\r\n",
                "\t\t'LastName'\t\t\tAS ColumnTitle\r\n",
                "\r\n",
                ")\r\n",
                "SELECT\r\n",
                "\tP.BusinessEntityID,\r\n",
                "\tC.ColumnOrder,\r\n",
                "\tC.ColumnTitle,\r\n",
                "\tCASE\r\n",
                "\t\tWHEN C.ColumnOrder = 1 THEN P.FirstName\r\n",
                "\t\tWHEN C.ColumnOrder = 2 THEN P.MiddleName\r\n",
                "\t\tWHEN C.ColumnOrder = 3 THEN P.LastName\r\n",
                "\tEND\t\t\t\t\t\tAS ColumnValue\r\n",
                "FROM\r\n",
                "\tPerson.Person AS P\r\n",
                "CROSS JOIN\r\n",
                "\tColumns AS C\r\n",
                "ORDER BY\r\n",
                "\tP.BusinessEntityID,\r\n",
                "\tC.ColumnOrder"
            ],
            "metadata": {
                "azdata_cell_guid": "51389b3f-ff27-4f80-bf56-acf1379d0959"
            },
            "outputs": [],
            "execution_count": null
        },
        {
            "cell_type": "markdown",
            "source": [
                "روش سوم:  \n",
                "  \n",
                "**UNPIVOT**"
            ],
            "metadata": {
                "azdata_cell_guid": "2ff61b02-9b01-4806-a8ca-883e6e3f56a5"
            }
        },
        {
            "cell_type": "code",
            "source": [
                "SELECT \r\n",
                "\tBusinessEntityID,\r\n",
                "\tColumnTitle,\r\n",
                "\tColumnValue\r\n",
                "FROM\r\n",
                "\tPerson.Person AS P\r\n",
                "UNPIVOT\r\n",
                "\t(\r\n",
                "\t\tColumnValue\r\n",
                "\t\tFOR ColumnTitle IN ([FirstName],[MiddleName],[LastName])\r\n",
                "\t) AS U\r\n",
                "ORDER BY\r\n",
                "\tBusinessEntityID"
            ],
            "metadata": {
                "azdata_cell_guid": "5267c424-d792-4490-b530-efa680b9277e"
            },
            "outputs": [],
            "execution_count": null
        }
    ]
}