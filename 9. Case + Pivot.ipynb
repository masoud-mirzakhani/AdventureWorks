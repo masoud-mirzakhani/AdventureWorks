{
    "metadata": {
        "kernelspec": {
            "name": "SQL",
            "display_name": "SQL",
            "language": "sql"
        },
        "language_info": {
            "name": "sql",
            "version": ""
        }
    },
    "nbformat_minor": 2,
    "nbformat": 4,
    "cells": [
        {
            "cell_type": "markdown",
            "source": [
                "دستور :\n",
                "\n",
                "**CASE**"
            ],
            "metadata": {
                "azdata_cell_guid": "4b834023-261c-4a4b-8915-62ff2a25a48e"
            }
        },
        {
            "cell_type": "code",
            "source": [
                "SELECT \r\n",
                "\tYEAR(SOH.OrderDate)\t\t\t\t\tAS SalesYear,\r\n",
                "\tDATEPART(QUARTER, OrderDate)\t\tAS SalesQuarter,\r\n",
                "\tCASE DATEPART(QUARTER, OrderDate)\r\n",
                "\t\tWHEN 1 THEN 'Winter'\r\n",
                "\t\tWHEN 2 THEN 'Spring'\r\n",
                "\t\tWHEN 3 THEN 'Summer'\r\n",
                "\t\tWHEN 4 THEN 'Fall'\r\n",
                "\t\tELSE ''\r\n",
                "\tEND\t\t\t\t\t\t\t\t\tAS SalesQuarterTitle,\r\n",
                "\t\t\r\n",
                "\tSUM(SOD.OrderQty * SOD.UnitPrice)\tAS TotalSales\r\n",
                "FROM\r\n",
                "\tSales.SalesOrderHeader AS SOH\r\n",
                "INNER JOIN\r\n",
                "\tSales.SalesOrderDetail AS SOD\r\n",
                "ON\r\n",
                "\tSOH.SalesOrderID = SOD.SalesOrderID\r\n",
                "GROUP BY\r\n",
                "\tYEAR(SOH.OrderDate),\r\n",
                "\tDATEPART(QUARTER, OrderDate)\r\n",
                "ORDER BY\r\n",
                "\tSalesYear,\r\n",
                "\tSalesQuarter"
            ],
            "metadata": {
                "azdata_cell_guid": "68615112-6c4f-411a-937d-23d310d9c2ac"
            },
            "outputs": [],
            "execution_count": null
        },
        {
            "cell_type": "code",
            "source": [
                "SELECT \r\n",
                "\tYEAR(SOH.OrderDate)\t\t\t\t\tAS SalesYear,\r\n",
                "\tDATEPART(QUARTER, OrderDate)\t\tAS SalesQuarter,\r\n",
                "\tCASE \r\n",
                "\t\tWHEN DATEPART(QUARTER, OrderDate) = 1 THEN 'Winter'\r\n",
                "\t\tWHEN DATEPART(QUARTER, OrderDate) = 2 THEN 'Spring'\r\n",
                "\t\tWHEN DATEPART(QUARTER, OrderDate) = 3 THEN 'Summer'\r\n",
                "\t\tWHEN DATEPART(QUARTER, OrderDate) = 4 THEN 'Fall'\r\n",
                "\t\tELSE ''\r\n",
                "\tEND\t\t\t\t\t\t\t\t\tAS SalesQuarterTitle,\r\n",
                "\t\t\r\n",
                "\tSUM(SOD.OrderQty * SOD.UnitPrice)\tAS TotalSales\r\n",
                "FROM\r\n",
                "\tSales.SalesOrderHeader AS SOH\r\n",
                "INNER JOIN\r\n",
                "\tSales.SalesOrderDetail AS SOD\r\n",
                "ON\r\n",
                "\tSOH.SalesOrderID = SOD.SalesOrderID\r\n",
                "GROUP BY\r\n",
                "\tYEAR(SOH.OrderDate),\r\n",
                "\tDATEPART(QUARTER, OrderDate)\r\n",
                "ORDER BY\r\n",
                "\tSalesYear,\r\n",
                "\tSalesQuarter"
            ],
            "metadata": {
                "azdata_cell_guid": "d5f3c5fe-db45-43dc-af76-775dc3108c9c"
            },
            "outputs": [],
            "execution_count": null
        },
        {
            "cell_type": "code",
            "source": [
                "SELECT \r\n",
                "\tYEAR(SOH.OrderDate)\t\t\t\t\tAS SalesYear,\r\n",
                "\tCASE\r\n",
                "\t\tWHEN MONTH(SOH.OrderDate) < 4 THEN 1\r\n",
                "\t\tWHEN MONTH(SOH.OrderDate) < 7 THEN 2\r\n",
                "\t\tWHEN MONTH(SOH.OrderDate) < 10 THEN 3\r\n",
                "\t\tELSE 4\r\n",
                "\tEND\t\t\t\t\t\t\t\t\tAS SalesQuarer,\r\n",
                "\tMONTH(SOH.OrderDate)\t\t\t\tAS SalesMonth,\t\t\r\n",
                "\tSUM(SOD.OrderQty * SOD.UnitPrice)\tAS TotalSales\r\n",
                "FROM\r\n",
                "\tSales.SalesOrderHeader AS SOH\r\n",
                "INNER JOIN\r\n",
                "\tSales.SalesOrderDetail AS SOD\r\n",
                "ON\r\n",
                "\tSOH.SalesOrderID = SOD.SalesOrderID\r\n",
                "GROUP BY\r\n",
                "\tYEAR(SOH.OrderDate),\r\n",
                "\tMONTH(SOH.OrderDate)\r\n",
                "ORDER BY\r\n",
                "\tSalesYear,\r\n",
                "\tSalesMonth"
            ],
            "metadata": {
                "azdata_cell_guid": "0f5f059f-8e11-471d-8528-3f2512698402"
            },
            "outputs": [],
            "execution_count": null
        },
        {
            "cell_type": "markdown",
            "source": [
                "مساله:\n",
                "\n",
                "**فروش به تفکیک سال و فصل**\n",
                "\n",
                "**به صورت ماترسی  \n",
                "روش:  \n",
                "CASE**"
            ],
            "metadata": {
                "azdata_cell_guid": "cd782ad4-a827-43f0-8e55-7e8bf9a35748"
            }
        },
        {
            "cell_type": "markdown",
            "source": [
                "آماده سازی"
            ],
            "metadata": {
                "azdata_cell_guid": "be180304-c2ec-4b21-abfa-d9afa10e19d2"
            }
        },
        {
            "cell_type": "code",
            "source": [
                "SELECT \r\n",
                "\tSOD.SalesOrderDetailID,\r\n",
                "\tSOD.SalesOrderID,\r\n",
                "\tSOH.OrderDate,\r\n",
                "\tSOD.OrderQty * SOD.UnitPrice\t\t\tAS Total_Sales,\r\n",
                "\tDATEPART(QUARTER, SOH.OrderDate)\t\tAS OrderQuarter,\r\n",
                "\tCASE DATEPART(QUARTER, SOH.OrderDate)\r\n",
                "\t\tWHEN 1 \r\n",
                "\t\tTHEN SOD.OrderQty * SOD.UnitPrice\r\n",
                "\tEND\t\t\t\t\t\t\t\t\t\tAS Q1_Sales,\r\n",
                "\tCASE DATEPART(QUARTER, SOH.OrderDate)\r\n",
                "\t\tWHEN 2 \r\n",
                "\t\tTHEN SOD.OrderQty * SOD.UnitPrice\r\n",
                "\tEND\t\t\t\t\t\t\t\t\t\tAS Q2_Sales,\r\n",
                "\tCASE DATEPART(QUARTER, SOH.OrderDate)\r\n",
                "\t\tWHEN 3 \r\n",
                "\t\tTHEN SOD.OrderQty * SOD.UnitPrice\r\n",
                "\tEND\t\t\t\t\t\t\t\t\t\tAS Q3_Sales,\r\n",
                "\tCASE DATEPART(QUARTER, SOH.OrderDate)\r\n",
                "\t\tWHEN 4 \r\n",
                "\t\tTHEN SOD.OrderQty * SOD.UnitPrice\r\n",
                "\tEND\t\t\t\t\t\t\t\t\t\tAS Q4_Sales\r\n",
                "FROM\r\n",
                "\tSales.SalesOrderHeader AS SOH\r\n",
                "INNER JOIN\r\n",
                "\tSales.SalesOrderDetail AS SOD\r\n",
                "ON\r\n",
                "\tSOH.SalesOrderID = SOD.SalesOrderID\r\n",
                ""
            ],
            "metadata": {
                "azdata_cell_guid": "11916c7b-8ca7-4773-9e42-6520c265e8e3"
            },
            "outputs": [],
            "execution_count": null
        },
        {
            "cell_type": "markdown",
            "source": [
                "حل مساله"
            ],
            "metadata": {
                "azdata_cell_guid": "58a8bd72-4f5d-4075-ac7b-fad43c4f791e"
            }
        },
        {
            "cell_type": "code",
            "source": [
                "SELECT \r\n",
                "\tYEAR(SOH.OrderDate)\t\t\t\t\t\t\t\tAS SalesYear,\r\n",
                "\tSUM(CASE DATEPART(QUARTER, SOH.OrderDate)\r\n",
                "\t\t\tWHEN 1 \r\n",
                "\t\t\tTHEN SOD.OrderQty * SOD.UnitPrice\r\n",
                "\t\tEND)\t\t\t\t\t\t\t\t\t\tAS Q1_Sales,\r\n",
                "\tSUM(CASE DATEPART(QUARTER, SOH.OrderDate)\r\n",
                "\t\t\tWHEN 2 \r\n",
                "\t\t\tTHEN SOD.OrderQty * SOD.UnitPrice\r\n",
                "\t\tEND)\t\t\t\t\t\t\t\t\t\tAS Q2_Sales,\r\n",
                "\tSUM(CASE DATEPART(QUARTER, SOH.OrderDate)\r\n",
                "\t\t\tWHEN 3 \r\n",
                "\t\t\tTHEN SOD.OrderQty * SOD.UnitPrice\r\n",
                "\t\tEND)\t\t\t\t\t\t\t\t\t\tAS Q3_Sales,\r\n",
                "\tSUM(CASE DATEPART(QUARTER, SOH.OrderDate)\r\n",
                "\t\t\tWHEN 4 \r\n",
                "\t\t\tTHEN SOD.OrderQty * SOD.UnitPrice\r\n",
                "\t\tEND)\t\t\t\t\t\t\t\t\t\tAS Q4_Sales\r\n",
                "FROM\r\n",
                "\tSales.SalesOrderHeader AS SOH\r\n",
                "INNER JOIN\r\n",
                "\tSales.SalesOrderDetail AS SOD\r\n",
                "ON\r\n",
                "\tSOH.SalesOrderID = SOD.SalesOrderID\r\n",
                "GROUP BY\r\n",
                "\tYEAR(SOH.OrderDate)\r\n",
                "ORDER BY\r\n",
                "\tSalesYear"
            ],
            "metadata": {
                "azdata_cell_guid": "f076b5b8-f3b7-4cdb-9237-b2e86bfb9171"
            },
            "outputs": [],
            "execution_count": null
        },
        {
            "cell_type": "markdown",
            "source": [
                "مساله:\n",
                "\n",
                "**فروش به تفکیک سال و فصل**\n",
                "\n",
                "**به صورت ماترسی  \n",
                "روش:  \n",
                "**\n",
                "\n",
                "**PIVOT**"
            ],
            "metadata": {
                "azdata_cell_guid": "3e38ecb6-5f1f-43c3-96aa-8e46e6e0e1c5"
            }
        },
        {
            "cell_type": "code",
            "source": [
                "WITH CTE\r\n",
                "AS\r\n",
                "(\r\n",
                "\tSELECT \r\n",
                "\t\tYEAR(SOH.OrderDate)\t\t\t\t\t\tAS OrderYear,\r\n",
                "\t\tDATEPART(QUARTER, SOH.OrderDate)\t\tAS OrderQuarter,\r\n",
                "\t\tSOD.OrderQty * SOD.UnitPrice\t\t\tAS TotalSales\r\n",
                "\tFROM\r\n",
                "\t\tSales.SalesOrderHeader AS SOH\r\n",
                "\tINNER JOIN\r\n",
                "\t\tSales.SalesOrderDetail AS SOD\r\n",
                "\tON\r\n",
                "\t\tSOH.SalesOrderID = SOD.SalesOrderID\r\n",
                ")\r\n",
                "\r\n",
                "SELECT \r\n",
                "\t*\r\n",
                "FROM\r\n",
                "\tCTE\r\n",
                "PIVOT\r\n",
                "\t(\r\n",
                "\t\tSUM(TotalSales)\r\n",
                "\t\tFOR OrderQuarter IN ([1],[2],[3],[4])\r\n",
                "\t) AS P\r\n",
                "ORDER BY\r\n",
                "\tOrderYear"
            ],
            "metadata": {
                "azdata_cell_guid": "05dbb6f1-8900-41fa-9bb7-95b0304b8fea"
            },
            "outputs": [],
            "execution_count": null
        }
    ]
}