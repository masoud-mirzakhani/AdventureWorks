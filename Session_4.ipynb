{
    "metadata": {
        "kernelspec": {
            "name": "SQL",
            "display_name": "SQL",
            "language": "sql"
        },
        "language_info": {
            "name": "sql",
            "version": ""
        }
    },
    "nbformat_minor": 2,
    "nbformat": 4,
    "cells": [
        {
            "cell_type": "markdown",
            "source": [
                " **NULL Values = Missing Values**\n",
                "\n",
                "**مقادیر نال یا خالی یا گم شده**\n",
                "\n",
                "برای پیدا کردن این مقادیر باید از گزاره زیر در شرط ها استفاده کرد"
            ],
            "metadata": {
                "azdata_cell_guid": "a4f3ffbf-8433-4b12-8a4f-5a89ac2054e2"
            }
        },
        {
            "cell_type": "code",
            "source": [
                "SELECT \r\n",
                "    *\r\n",
                "FROM   \r\n",
                "    Person.Person\r\n",
                "WHERE\r\n",
                "\tTitle IS NULL"
            ],
            "metadata": {
                "azdata_cell_guid": "c43363cb-6a84-411b-a4a2-4c07692bf870"
            },
            "outputs": [],
            "execution_count": null
        },
        {
            "cell_type": "code",
            "source": [
                "SELECT \n",
                "    *\n",
                "FROM   \n",
                "    Person.Person\n",
                "WHERE\n",
                "\tTitle IS NOT NULL"
            ],
            "metadata": {
                "azdata_cell_guid": "7064ba0b-7662-47ca-b7ff-482ed2b2df6b"
            },
            "outputs": [],
            "execution_count": null
        },
        {
            "cell_type": "markdown",
            "source": [
                " **JOIN**\n",
                "\n",
                "لیست اشخاصی که کارمند هستند"
            ],
            "metadata": {
                "azdata_cell_guid": "c039d845-ac2e-4dbc-a743-72da0b2219ba"
            }
        },
        {
            "cell_type": "code",
            "source": [
                "SELECT \r\n",
                "\t*\r\n",
                "FROM\r\n",
                "\tPerson.Person AS P\r\n",
                "INNER JOIN\r\n",
                "\tHumanResources.Employee AS E\r\n",
                "ON\r\n",
                "\tP.BusinessEntityID = E.BusinessEntityID"
            ],
            "metadata": {
                "azdata_cell_guid": "2db41222-de87-4e8a-acc7-029a56ef4308"
            },
            "outputs": [],
            "execution_count": null
        },
        {
            "cell_type": "markdown",
            "source": [
                "**JOIN \\* 2**\n",
                "\n",
                "لیست اشخاصی که فروشنده هستند"
            ],
            "metadata": {
                "azdata_cell_guid": "1746ee7e-080a-412b-8125-2327e6123f4c"
            }
        },
        {
            "cell_type": "code",
            "source": [
                "SELECT \r\n",
                "\t*\r\n",
                "FROM\r\n",
                "\tPerson.Person AS P\r\n",
                "INNER JOIN\r\n",
                "\tHumanResources.Employee AS E\r\n",
                "ON\r\n",
                "\tP.BusinessEntityID = E.BusinessEntityID\r\n",
                "INNER JOIN\r\n",
                "\tSales.SalesPerson AS SP\r\n",
                "ON\r\n",
                "\tE.BusinessEntityID = SP.BusinessEntityID"
            ],
            "metadata": {
                "azdata_cell_guid": "44162457-8bc1-4e7a-b522-664de34a5efd"
            },
            "outputs": [],
            "execution_count": null
        },
        {
            "cell_type": "markdown",
            "source": [
                "**JOIN + Missing Values**\n",
                "\n",
                "لیست اشخاصی که کارمند نیستند"
            ],
            "metadata": {
                "azdata_cell_guid": "596ea4fc-5239-4585-927b-67350472d238"
            }
        },
        {
            "cell_type": "code",
            "source": [
                "SELECT \r\n",
                "\tP.*\r\n",
                "FROM\r\n",
                "\tPerson.Person AS P\r\n",
                "LEFT OUTER JOIN\r\n",
                "\tHumanResources.Employee AS E\r\n",
                "ON\r\n",
                "\tP.BusinessEntityID = E.BusinessEntityID\r\n",
                "WHERE\r\n",
                "\tE.BusinessEntityID IS NULL"
            ],
            "metadata": {
                "azdata_cell_guid": "0f99fcdb-195a-4cc8-9939-4f63ecadd033"
            },
            "outputs": [],
            "execution_count": null
        },
        {
            "cell_type": "markdown",
            "source": [
                "**JOIN \\* 4**\n",
                "\n",
                "استفاده از چند جوبن برای کنار هم قرار دادن اطلاعات چند جدول\n",
                "\n",
                "مشخص کردن نام خریدار و کالا به ازای هر قلم کالای فروش رفته"
            ],
            "metadata": {
                "azdata_cell_guid": "e93a2c61-de02-4ef1-a1ca-7332541e64c7"
            }
        },
        {
            "cell_type": "code",
            "source": [
                "SELECT \r\n",
                "\tSOH.OrderDate,\r\n",
                "\tSOH.CustomerID,\r\n",
                "\tPrs.FirstName,\r\n",
                "\tPrs.LastName,\r\n",
                "\tSOD.ProductID,\r\n",
                "\tP.Name AS ProductName,\r\n",
                "\tSOD.OrderQty,\r\n",
                "\tSOD.UnitPrice,\r\n",
                "\tSOD.OrderQty * SOD.UnitPrice AS TotalPrice\r\n",
                "FROM\r\n",
                "\tSales.SalesOrderHeader AS SOH --31,465\r\n",
                "INNER JOIN\r\n",
                "\tSales.SalesOrderDetail AS SOD --121,317\r\n",
                "ON\r\n",
                "\tSOH.SalesOrderID = SOD.SalesOrderID\r\n",
                "INNER JOIN\r\n",
                "\tProduction.Product AS P\r\n",
                "ON\r\n",
                "\tSOD.ProductID = P.ProductID\r\n",
                "INNER JOIN\r\n",
                "\tSales.Customer AS C\r\n",
                "ON\r\n",
                "\tSOH.CustomerID = C.CustomerID\r\n",
                "INNER JOIN\r\n",
                "\tPerson.Person AS Prs\r\n",
                "ON\r\n",
                "\tC.PersonID = Prs.BusinessEntityID"
            ],
            "metadata": {
                "azdata_cell_guid": "71f7dff2-1370-40c6-9317-3fea8ec2a7fe"
            },
            "outputs": [],
            "execution_count": null
        },
        {
            "cell_type": "markdown",
            "source": [
                "**GROUP BY**\n",
                "\n",
                "**گروه بندی**\n",
                "\n",
                "آمار فروش به ازای هر مشتری"
            ],
            "metadata": {
                "azdata_cell_guid": "0bb923eb-99d8-4f41-802a-fc9dab521466"
            }
        },
        {
            "cell_type": "code",
            "source": [
                "SELECT \r\n",
                "\tSOH.CustomerID,\r\n",
                "\tPrs.FirstName,\r\n",
                "\tPrs.LastName,\r\n",
                "\tSUM(SOD.OrderQty)\t\t\t\t\tAS TotalOrderQty,\r\n",
                "\tSUM(SOD.OrderQty * SOD.UnitPrice)\tAS TotalPrice\r\n",
                "FROM\r\n",
                "\tSales.SalesOrderHeader AS SOH --31,465\r\n",
                "INNER JOIN\r\n",
                "\tSales.SalesOrderDetail AS SOD --121,317\r\n",
                "ON\r\n",
                "\tSOH.SalesOrderID = SOD.SalesOrderID\r\n",
                "INNER JOIN\r\n",
                "\tSales.Customer AS C\r\n",
                "ON\r\n",
                "\tSOH.CustomerID = C.CustomerID\r\n",
                "INNER JOIN\r\n",
                "\tPerson.Person AS Prs\r\n",
                "ON\r\n",
                "\tC.PersonID = Prs.BusinessEntityID\r\n",
                "GROUP BY\r\n",
                "\tSOH.CustomerID,\r\n",
                "\tPrs.FirstName,\r\n",
                "\tPrs.LastName"
            ],
            "metadata": {
                "azdata_cell_guid": "690a9075-36f1-4432-aeac-f6c8263280e9"
            },
            "outputs": [],
            "execution_count": null
        },
        {
            "cell_type": "markdown",
            "source": [
                "آمار فروش به ازای هر کالا"
            ],
            "metadata": {
                "azdata_cell_guid": "b7047250-1ad9-4816-b2bf-ea70485cd922"
            }
        },
        {
            "cell_type": "code",
            "source": [
                "SELECT \r\n",
                "\tSOD.ProductID,\r\n",
                "\tP.Name AS ProductName,\r\n",
                "\tSUM(SOD.OrderQty)\t\t\t\t\tAS TotalOrderQty,\r\n",
                "\tSUM(SOD.OrderQty * SOD.UnitPrice)\tAS TotalPrice\r\n",
                "FROM\r\n",
                "\tSales.SalesOrderHeader AS SOH --31,465\r\n",
                "INNER JOIN\r\n",
                "\tSales.SalesOrderDetail AS SOD --121,317\r\n",
                "ON\r\n",
                "\tSOH.SalesOrderID = SOD.SalesOrderID\r\n",
                "INNER JOIN\r\n",
                "\tProduction.Product AS P\r\n",
                "ON\r\n",
                "\tSOD.ProductID = P.ProductID\r\n",
                "GROUP BY\r\n",
                "\tSOD.ProductID,\r\n",
                "\tP.Name"
            ],
            "metadata": {
                "azdata_cell_guid": "150fd10a-b020-4433-b3a1-d1befe73d6be"
            },
            "outputs": [],
            "execution_count": null
        },
        {
            "cell_type": "markdown",
            "source": [
                "**DISTINCT**\n",
                "\n",
                "**حذف رکورد های تکراری**\n",
                "\n",
                "لیست بدون تکرار روزهایی که فروش انجام شده است"
            ],
            "metadata": {
                "azdata_cell_guid": "d9a9239d-8f14-46b5-a39e-4c5aaa729372"
            }
        },
        {
            "cell_type": "code",
            "source": [
                "SELECT DISTINCT\r\n",
                "\tSOH.OrderDate,\r\n",
                "\t\r\n",
                "\tYEAR(SOH.OrderDate)\t\t\t\t\tAS Year,\r\n",
                "\tDATEPART(YEAR, SOH.OrderDate)\t\tAS Year2,\r\n",
                "\r\n",
                "\tMONTH(SOH.OrderDate)\t\t\t\tAS Month,\r\n",
                "\tDATEPART(MONTH, SOH.OrderDate)\t\tAS Month2,\r\n",
                "\tDATENAME(MONTH, SOH.OrderDate)\t\tAS MonthName,\r\n",
                "\t\r\n",
                "\tDAY(SOH.OrderDate)\t\t\t\t\tAS Day,\r\n",
                "\tDATEPART(DAY, SOH.OrderDate)\t\tAS Day2,\r\n",
                "\tDATENAME(weekday, SOH.OrderDate)\tAS DayName,\r\n",
                "\r\n",
                "\r\n",
                "\tDATEPART(QUARTER, SOH.OrderDate)\tAS Quarter,\r\n",
                "\tDATEPART(dayofyear, SOH.OrderDate)\tAS DayOfYear,\r\n",
                "\tDATEPART(week, SOH.OrderDate)\t\tAS WeekOfYear\r\n",
                "FROM\r\n",
                "\tSales.SalesOrderHeader AS SOH"
            ],
            "metadata": {
                "azdata_cell_guid": "c60492d1-e965-487f-a187-3ef4cced161c"
            },
            "outputs": [],
            "execution_count": null
        },
        {
            "cell_type": "markdown",
            "source": [
                "استفاده از توابع تاریخ و زمان\n",
                "\n",
                "فروش به تفکیک سال و ماه"
            ],
            "metadata": {
                "azdata_cell_guid": "e5e6e747-a0d0-4109-8319-8687cc74c00c"
            }
        },
        {
            "cell_type": "code",
            "source": [
                "SELECT \r\n",
                "\tYEAR(SOH.OrderDate)\t\t\t\t\tAS OrderYear,\r\n",
                "\tMONTH(SOH.OrderDate)\t\t\t\tAS OrderMonth,\r\n",
                "\tDATENAME(MONTH, SOH.OrderDate)\t\tAS orderMonthName,\r\n",
                "\tSUM(SOD.OrderQty)\t\t\t\t\tAS TotalOrderQty,\r\n",
                "\tSUM(SOD.OrderQty * SOD.UnitPrice)\tAS TotalPrice\r\n",
                "FROM\r\n",
                "\tSales.SalesOrderHeader AS SOH --31,465\r\n",
                "INNER JOIN\r\n",
                "\tSales.SalesOrderDetail AS SOD --121,317\r\n",
                "ON\r\n",
                "\tSOH.SalesOrderID = SOD.SalesOrderID\r\n",
                "GROUP BY\r\n",
                "\tYEAR(SOH.OrderDate),\r\n",
                "\tMONTH(SOH.OrderDate),\r\n",
                "\tDATENAME(MONTH, SOH.OrderDate)\r\n",
                "ORDER BY\r\n",
                "\tYEAR(SOH.OrderDate),\r\n",
                "\tMONTH(SOH.OrderDate)"
            ],
            "metadata": {
                "azdata_cell_guid": "013fd92d-9a03-4515-9f0b-46b87ff97f06"
            },
            "outputs": [],
            "execution_count": null
        },
        {
            "cell_type": "markdown",
            "source": [
                "**HAVING**\n",
                "\n",
                "**فیلتر کردن گروه ها:**\n",
                "\n",
                "فروش به تفکیک سال و فصل برای همه سال ها به غیر از 2012 به شرط آن که جمع تعداد فروش بیشتر از ده هزار باشد"
            ],
            "metadata": {
                "azdata_cell_guid": "72f69361-91cf-41e3-bbc7-1a1e00c1c5d4"
            }
        },
        {
            "cell_type": "code",
            "source": [
                "SELECT \r\n",
                "\tYEAR(SOH.OrderDate)\t\t\t\t\tAS OrderYear,\r\n",
                "\tDATEPART(QUARTER, SOH.OrderDate)\tAS OrderQuarter,\r\n",
                "\tSUM(SOD.OrderQty)\t\t\t\t\tAS TotalOrderQty,\r\n",
                "\tSUM(SOD.OrderQty * SOD.UnitPrice)\tAS TotalPrice\r\n",
                "FROM\r\n",
                "\tSales.SalesOrderHeader AS SOH --31,465\r\n",
                "INNER JOIN\r\n",
                "\tSales.SalesOrderDetail AS SOD --121,317\r\n",
                "ON\r\n",
                "\tSOH.SalesOrderID = SOD.SalesOrderID\r\n",
                "WHERE\r\n",
                "\tYEAR(SOH.OrderDate) <> 2012\r\n",
                "GROUP BY\r\n",
                "\tYEAR(SOH.OrderDate),\r\n",
                "\tDATEPART(QUARTER, SOH.OrderDate)\r\n",
                "HAVING\r\n",
                "\tSUM(SOD.OrderQty) > 10000\r\n",
                "ORDER BY\r\n",
                "\tYEAR(SOH.OrderDate),\r\n",
                "\tDATEPART(QUARTER, SOH.OrderDate)"
            ],
            "metadata": {
                "azdata_cell_guid": "6dc26ad3-1bfc-40fb-a0c3-575e17fe7d6a"
            },
            "outputs": [],
            "execution_count": null
        },
        {
            "cell_type": "markdown",
            "source": [
                "**ORDER BY**\n",
                "\n",
                "**مرتب سازی**"
            ],
            "metadata": {
                "azdata_cell_guid": "48da3794-12ce-45a2-a40d-925a54338377"
            }
        },
        {
            "cell_type": "code",
            "source": [
                "SELECT \r\n",
                "\tYEAR(SOH.OrderDate)\t\t\t\t\tAS OrderYear,\r\n",
                "\tDATEPART(QUARTER, SOH.OrderDate)\tAS OrderQuarter,\r\n",
                "\tMONTH(SOH.OrderDate)\t\t\t\tAS OrderMonth,\r\n",
                "\tSUM(SOD.OrderQty)\t\t\t\t\tAS TotalOrderQty,\r\n",
                "\tSUM(SOD.OrderQty * SOD.UnitPrice)\tAS TotalPrice\r\n",
                "FROM\r\n",
                "\tSales.SalesOrderHeader AS SOH --31,465\r\n",
                "INNER JOIN\r\n",
                "\tSales.SalesOrderDetail AS SOD --121,317\r\n",
                "ON\r\n",
                "\tSOH.SalesOrderID = SOD.SalesOrderID\r\n",
                "GROUP BY\r\n",
                "\tYEAR(SOH.OrderDate),\r\n",
                "\tDATEPART(QUARTER, SOH.OrderDate),\r\n",
                "\tMONTH(SOH.OrderDate)\r\n",
                "ORDER BY\r\n",
                "\tYEAR(SOH.OrderDate),\t-- ASC,  Expression\r\n",
                "\tOrderQuarter ASC,\t\t-- ASC,  Alias\r\n",
                "\t3 DESC\t\t\t\t \t-- DESC, Column Position"
            ],
            "metadata": {
                "azdata_cell_guid": "01d35f03-3bb5-47f7-8afa-e9ad57db6006"
            },
            "outputs": [],
            "execution_count": null
        },
        {
            "cell_type": "markdown",
            "source": [
                "**TOP N ROWS**"
            ],
            "metadata": {
                "azdata_cell_guid": "81ad7a57-7654-4d43-a23c-a87ab414845b"
            }
        },
        {
            "cell_type": "code",
            "source": [
                "SELECT TOP (100)\r\n",
                "\t*\r\n",
                "FROM\r\n",
                "\tPerson.Person\r\n",
                "ORDER BY\r\n",
                "\tFirstName"
            ],
            "metadata": {
                "azdata_cell_guid": "a012afd4-0b14-4b36-9a84-8c36c20b6016"
            },
            "outputs": [],
            "execution_count": null
        },
        {
            "cell_type": "markdown",
            "source": [
                "**TOP + PERCENT**"
            ],
            "metadata": {
                "azdata_cell_guid": "283db1ee-04e3-4a75-ae27-e640efdbb6fb"
            }
        },
        {
            "cell_type": "code",
            "source": [
                "SELECT TOP 10 PERCENT\r\n",
                "\t*\r\n",
                "FROM\r\n",
                "\tPerson.Person -- 19,972\r\n",
                "ORDER BY\r\n",
                "\tFirstName"
            ],
            "metadata": {
                "azdata_cell_guid": "363bd01f-fe2a-41ad-913c-a83634a6013b"
            },
            "outputs": [],
            "execution_count": null
        },
        {
            "cell_type": "markdown",
            "source": [
                "**OFFSET FETCH**"
            ],
            "metadata": {
                "azdata_cell_guid": "c067e705-d72b-416c-9ead-dd7d1629c5bf"
            }
        },
        {
            "cell_type": "code",
            "source": [
                "-- Skip the first 5 rows from the sorted result set and return all remaining rows.  \r\n",
                "SELECT \r\n",
                "\tDepartmentID, \r\n",
                "\tName, \r\n",
                "\tGroupName  \r\n",
                "FROM \r\n",
                "\tHumanResources.Department  \r\n",
                "ORDER BY \r\n",
                "\tDepartmentID \r\n",
                "OFFSET \r\n",
                "\t5 ROWS;"
            ],
            "metadata": {
                "azdata_cell_guid": "e93d9f98-b282-43f5-8503-c5ea2da1caf6"
            },
            "outputs": [],
            "execution_count": null
        },
        {
            "cell_type": "code",
            "source": [
                "-- Skip 0 rows and return only the first 10 rows from the sorted result set.  \r\n",
                "SELECT \r\n",
                "\tDepartmentID, \r\n",
                "\tName, \r\n",
                "\tGroupName  \r\n",
                "FROM \r\n",
                "\tHumanResources.Department  \r\n",
                "ORDER BY \r\n",
                "\tDepartmentID   \r\n",
                "OFFSET \r\n",
                "\t0 ROWS  \r\n",
                "FETCH \r\n",
                "\tNEXT 10 ROWS ONLY;"
            ],
            "metadata": {
                "azdata_cell_guid": "340680d8-2931-41b9-b24b-44b236774248"
            },
            "outputs": [],
            "execution_count": null
        },
        {
            "cell_type": "code",
            "source": [
                "-- Skip 5 rows and return next 5 rows from the sorted result set. \r\n",
                "SELECT \r\n",
                "\tDepartmentID, \r\n",
                "\tName, \r\n",
                "\tGroupName  \r\n",
                "FROM \r\n",
                "\tHumanResources.Department  \r\n",
                "ORDER BY \r\n",
                "\tDepartmentID   \r\n",
                "OFFSET \r\n",
                "\t5 ROWS  \r\n",
                "FETCH \r\n",
                "\tNEXT 5 ROWS ONLY;"
            ],
            "metadata": {
                "azdata_cell_guid": "47eab1db-1aeb-4774-b486-768ddfc5f1cc"
            },
            "outputs": [],
            "execution_count": null
        }
    ]
}