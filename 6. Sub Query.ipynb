{
    "metadata": {
        "kernelspec": {
            "name": "SQL",
            "display_name": "SQL",
            "language": "sql"
        },
        "language_info": {
            "name": "sql",
            "version": ""
        }
    },
    "nbformat_minor": 2,
    "nbformat": 4,
    "cells": [
        {
            "cell_type": "markdown",
            "source": [
                "**Sub Query**\n",
                "\n",
                "نوع اول\n",
                "\n",
                "**Self Contained**\n",
                "\n",
                "**Scalar Valued**"
            ],
            "metadata": {
                "azdata_cell_guid": "cc3a55a0-da0c-4675-9fa2-378f1d08b6de"
            }
        },
        {
            "cell_type": "markdown",
            "source": [
                "**مثال**:\n",
                "\n",
                " مقدار فروش سالاه + درصد فروش هر سال از کل فروش"
            ],
            "metadata": {
                "azdata_cell_guid": "659b9364-028c-4335-9495-4019a9396320"
            }
        },
        {
            "cell_type": "code",
            "source": [
                "SELECT \r\n",
                "\tYEAR(SOH.OrderDate)\t\t\t\t\tAS OredrYear,\r\n",
                "\tSUM(SOD.OrderQty * SOD.UnitPrice)\tAS YearSales,\r\n",
                "\t(\r\n",
                "\t\tSELECT \r\n",
                "\t\t\tSUM(OrderQty * UnitPrice)\r\n",
                "\t\tFROM\r\n",
                "\t\t\tSales.SalesOrderDetail\r\n",
                "\t)\t\t\t\t\t\t\t\t\tAS TotalSales,\r\n",
                "\r\n",
                "\tSUM(SOD.OrderQty * SOD.UnitPrice) / \r\n",
                "\t(\r\n",
                "\t\tSELECT \r\n",
                "\t\t\tSUM(OrderQty * UnitPrice)\r\n",
                "\t\tFROM\r\n",
                "\t\t\tSales.SalesOrderDetail\r\n",
                "\t) * 100\r\n",
                "FROM\r\n",
                "\tSales.SalesOrderHeader AS SOH\r\n",
                "INNER JOIN\r\n",
                "\tSales.SalesOrderDetail AS SOD\r\n",
                "ON\r\n",
                "\tSOH.SalesOrderID = SOD.SalesOrderID\r\n",
                "GROUP BY\r\n",
                "\tYEAR(SOH.OrderDate)\r\n",
                "ORDER BY\r\n",
                "\tOredrYear"
            ],
            "metadata": {
                "azdata_cell_guid": "e9686035-d1cb-454d-a32b-a92bd85cd829"
            },
            "outputs": [],
            "execution_count": null
        },
        {
            "cell_type": "markdown",
            "source": [
                "**Sub Query**\n",
                "\n",
                "نوع دوم\n",
                "\n",
                "**Self Contained**\n",
                "\n",
                "**Multi Valued**\n",
                "\n",
                "**مثال**: \n",
                "\n",
                "لیست اشخاصی که کارمند هستند"
            ],
            "metadata": {
                "azdata_cell_guid": "6025d528-cd77-4033-83ea-be2fa82f8c70"
            }
        },
        {
            "cell_type": "code",
            "source": [
                "SELECT \r\n",
                "\t*\r\n",
                "FROM\r\n",
                "\tPerson.Person AS P\r\n",
                "WHERE\r\n",
                "\tBusinessEntityID IN (SELECT \r\n",
                "\t\t\t\t\t\t\tBusinessEntityID\r\n",
                "\t\t\t\t\t\tFROM\r\n",
                "\t\t\t\t\t\t\tHumanResources.Employee)"
            ],
            "metadata": {
                "azdata_cell_guid": "5ecdf411-2484-4b52-a1da-c35ae82a4c34"
            },
            "outputs": [],
            "execution_count": null
        },
        {
            "cell_type": "markdown",
            "source": [
                "مثال بالا از روش \n",
                "\n",
                "**JOIN**"
            ],
            "metadata": {
                "azdata_cell_guid": "1d63e9b8-9300-4a9e-a6c0-00ea8535b768"
            }
        },
        {
            "cell_type": "code",
            "source": [
                "SELECT \r\n",
                "\tP.*\r\n",
                "FROM\r\n",
                "\tPerson.Person AS P\r\n",
                "INNER JOIN\r\n",
                "\tHumanResources.Employee AS E\r\n",
                "ON\r\n",
                "\tP.BusinessEntityID = E.BusinessEntityID"
            ],
            "metadata": {
                "azdata_cell_guid": "33b7c677-2e6b-46e4-9150-c1184c657e3d"
            },
            "outputs": [],
            "execution_count": null
        },
        {
            "cell_type": "markdown",
            "source": [
                "**مثال**:  \n",
                "لیست اشخاصی که کارمند نیستند"
            ],
            "metadata": {
                "azdata_cell_guid": "7c201843-7139-4e3b-9d15-8e5fa5b8f522"
            }
        },
        {
            "cell_type": "code",
            "source": [
                "SELECT \r\n",
                "\t*\r\n",
                "FROM\r\n",
                "\tPerson.Person AS P\r\n",
                "WHERE\r\n",
                "\tBusinessEntityID NOT IN (SELECT \r\n",
                "\t\t\t\t\t\t\t\tBusinessEntityID\r\n",
                "\t\t\t\t\t\t\tFROM\r\n",
                "\t\t\t\t\t\t\t\tHumanResources.Employee)"
            ],
            "metadata": {
                "azdata_cell_guid": "b8ed3c1a-8732-417b-b732-896dd264263d"
            },
            "outputs": [],
            "execution_count": null
        },
        {
            "cell_type": "markdown",
            "source": [
                "مثال بالا از روش \n",
                "\n",
                "**JOIN + NULL**"
            ],
            "metadata": {
                "azdata_cell_guid": "9fa61f65-1588-451b-b046-441b097f8671"
            }
        },
        {
            "cell_type": "code",
            "source": [
                "SELECT \r\n",
                "\tP.*\r\n",
                "FROM\r\n",
                "\tPerson.Person AS P\r\n",
                "LEFT OUTER JOIN\r\n",
                "\tHumanResources.Employee AS E\r\n",
                "ON\r\n",
                "\tP.BusinessEntityID = E.BusinessEntityID\r\n",
                "WHERE\r\n",
                "\tE.BusinessEntityID IS NULL"
            ],
            "metadata": {
                "azdata_cell_guid": "37f7ba02-c0fe-40a6-8259-fdfca5c0ea7a"
            },
            "outputs": [],
            "execution_count": null
        },
        {
            "cell_type": "markdown",
            "source": [
                "**Sub Query**\n",
                "\n",
                "نوع سوم\n",
                "\n",
                "**Correlated**\n",
                "\n",
                "**Scalar Valued**\n",
                "\n",
                "**مثال:**   \n",
                "\n",
                "فروش سالانه، به تفکیک فصل"
            ],
            "metadata": {
                "azdata_cell_guid": "b1c7b5e6-553b-4063-a265-586bf6fee942"
            }
        },
        {
            "cell_type": "code",
            "source": [
                "SELECT \r\n",
                "\tYEAR(SOH.OrderDate)\t\t\t\t\tAS OrderYear,\r\n",
                "\t(\r\n",
                "\t\tSELECT \r\n",
                "\t\t\tSUM(I_SOD.OrderQty * I_SOD.UnitPrice)\r\n",
                "\t\tFROM\r\n",
                "\t\t\tSales.SalesOrderHeader AS I_SOH\r\n",
                "\t\tINNER JOIN\r\n",
                "\t\t\tSales.SalesOrderDetail AS I_SOD\r\n",
                "\t\tON\r\n",
                "\t\t\tI_SOH.SalesOrderID = I_SOD.SalesOrderID\r\n",
                "\t\tWHERE\r\n",
                "\t\t\t\tYEAR(I_SOH.OrderDate) = YEAR(SOH.OrderDate)\r\n",
                "\t\t\tAND DATEPART(QUARTER, I_SOH.OrderDate) = 1\r\n",
                "\t) AS Q1_Sales,\r\n",
                "\t(\r\n",
                "\t\tSELECT \r\n",
                "\t\t\tSUM(I_SOD.OrderQty * I_SOD.UnitPrice)\r\n",
                "\t\tFROM\r\n",
                "\t\t\tSales.SalesOrderHeader AS I_SOH\r\n",
                "\t\tINNER JOIN\r\n",
                "\t\t\tSales.SalesOrderDetail AS I_SOD\r\n",
                "\t\tON\r\n",
                "\t\t\tI_SOH.SalesOrderID = I_SOD.SalesOrderID\r\n",
                "\t\tWHERE\r\n",
                "\t\t\t\tYEAR(I_SOH.OrderDate) = YEAR(SOH.OrderDate)\r\n",
                "\t\t\tAND DATEPART(QUARTER, I_SOH.OrderDate) = 2\r\n",
                "\t) AS Q2_Sales,\r\n",
                "\t(\r\n",
                "\t\tSELECT \r\n",
                "\t\t\tSUM(I_SOD.OrderQty * I_SOD.UnitPrice)\r\n",
                "\t\tFROM\r\n",
                "\t\t\tSales.SalesOrderHeader AS I_SOH\r\n",
                "\t\tINNER JOIN\r\n",
                "\t\t\tSales.SalesOrderDetail AS I_SOD\r\n",
                "\t\tON\r\n",
                "\t\t\tI_SOH.SalesOrderID = I_SOD.SalesOrderID\r\n",
                "\t\tWHERE\r\n",
                "\t\t\t\tYEAR(I_SOH.OrderDate) = YEAR(SOH.OrderDate)\r\n",
                "\t\t\tAND DATEPART(QUARTER, I_SOH.OrderDate) = 3\r\n",
                "\t) AS Q3_Sales,\r\n",
                "\t(\r\n",
                "\t\tSELECT \r\n",
                "\t\t\tSUM(I_SOD.OrderQty * I_SOD.UnitPrice)\r\n",
                "\t\tFROM\r\n",
                "\t\t\tSales.SalesOrderHeader AS I_SOH\r\n",
                "\t\tINNER JOIN\r\n",
                "\t\t\tSales.SalesOrderDetail AS I_SOD\r\n",
                "\t\tON\r\n",
                "\t\t\tI_SOH.SalesOrderID = I_SOD.SalesOrderID\r\n",
                "\t\tWHERE\r\n",
                "\t\t\t\tYEAR(I_SOH.OrderDate) = YEAR(SOH.OrderDate)\r\n",
                "\t\t\tAND DATEPART(QUARTER, I_SOH.OrderDate) = 4\r\n",
                "\t) AS Q4_Sales\r\n",
                "FROM\r\n",
                "\tSales.SalesOrderHeader AS SOH\r\n",
                "INNER JOIN\r\n",
                "\tSales.SalesOrderDetail AS SOD\r\n",
                "ON\r\n",
                "\tSOH.SalesOrderID = SOD.SalesOrderID\r\n",
                "GROUP BY\r\n",
                "\tYEAR(SOH.OrderDate)\r\n",
                "ORDER BY\r\n",
                "\tOrderYear"
            ],
            "metadata": {
                "azdata_cell_guid": "4fd6c67d-4035-4b2d-92eb-3b62f4cdce65"
            },
            "outputs": [],
            "execution_count": null
        },
        {
            "cell_type": "markdown",
            "source": [
                "**Sub Query**\n",
                "\n",
                "نوع چهارم\n",
                "\n",
                "**Correlated**\n",
                "\n",
                "**Set Valued**\n",
                "\n",
                "**مثال**: \n",
                "\n",
                "لیست افرادی که کارمند هستند\n",
                "\n",
                "-   **EXISTS**"
            ],
            "metadata": {
                "azdata_cell_guid": "d8360640-f388-47d6-a7cf-40830e898464"
            }
        },
        {
            "cell_type": "code",
            "source": [
                "SELECT \r\n",
                "\t*\r\n",
                "FROM\r\n",
                "\tPerson.Person AS P\r\n",
                "WHERE\r\n",
                "\tEXISTS (SELECT  \r\n",
                "\t\t\t\t*\r\n",
                "\t\t\tFROM\r\n",
                "\t\t\t\tHumanResources.Employee AS E\r\n",
                "\t\t\tWHERE\r\n",
                "\t\t\t\tP.BusinessEntityID = E.BusinessEntityID)"
            ],
            "metadata": {
                "azdata_cell_guid": "817eed9f-d4c9-49b2-8e0c-86dc091753a4"
            },
            "outputs": [],
            "execution_count": null
        },
        {
            "cell_type": "markdown",
            "source": [
                "**مثال:**\n",
                "\n",
                " لیست افرادی که کارمند نیستند\n",
                "\n",
                "-   **NOT EXISTS**"
            ],
            "metadata": {
                "azdata_cell_guid": "95f65064-1ea8-43d1-8c2a-aa67b542db3e"
            }
        },
        {
            "cell_type": "code",
            "source": [
                "SELECT \r\n",
                "\t*\r\n",
                "FROM\r\n",
                "\tPerson.Person AS P\r\n",
                "WHERE\r\n",
                "\tNOT EXISTS (SELECT \r\n",
                "\t\t\t\t\t*\r\n",
                "\t\t\t\tFROM\r\n",
                "\t\t\t\t\tHumanResources.Employee AS E\r\n",
                "\t\t\t\tWHERE\r\n",
                "\t\t\t\t\tP.BusinessEntityID = E.BusinessEntityID)"
            ],
            "metadata": {
                "azdata_cell_guid": "fa434bd3-c4bf-4ca6-b6eb-f6a095edccf9"
            },
            "outputs": [],
            "execution_count": null
        }
    ]
}