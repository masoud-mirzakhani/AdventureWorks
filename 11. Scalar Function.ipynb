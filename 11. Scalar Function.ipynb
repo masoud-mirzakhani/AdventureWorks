{
    "metadata": {
        "kernelspec": {
            "name": "SQL",
            "display_name": "SQL",
            "language": "sql"
        },
        "language_info": {
            "name": "sql",
            "version": ""
        }
    },
    "nbformat_minor": 2,
    "nbformat": 4,
    "cells": [
        {
            "cell_type": "markdown",
            "source": [
                "**Scalar Valued Function** \n",
                "\n",
                "  \n",
                "\n",
                "ساخت یک فانکشن برای محاسبه فروش به ازای یک سال و فصل"
            ],
            "metadata": {
                "azdata_cell_guid": "520c0516-47b9-4aa8-bfa2-ede737d6ba2b"
            }
        },
        {
            "cell_type": "code",
            "source": [
                "CREATE OR ALTER FUNCTION dbo.fnYearQuarterSales\r\n",
                "(\r\n",
                "    @Year\t\tINT,\r\n",
                "\t@Quarter\tINT\r\n",
                ")\r\n",
                "RETURNS DECIMAL(10, 2)\r\n",
                "AS\r\n",
                "BEGIN\r\n",
                "\tDECLARE @Sales DECIMAL(10, 2)\r\n",
                "\r\n",
                "\tSELECT \r\n",
                "\t\t@Sales = SUM(SOD.OrderQty * SOD.UnitPrice)\r\n",
                "\tFROM\r\n",
                "\t\tSales.SalesOrderHeader AS SOH\r\n",
                "\tINNER JOIN\r\n",
                "\t\tSales.SalesOrderDetail AS SOD\r\n",
                "\tON\r\n",
                "\t\tSOH.SalesOrderID = SOD.SalesOrderID\r\n",
                "\tWHERE\r\n",
                "\t\tYEAR(SOH.OrderDate) = @Year\r\n",
                "\t\tAND DATEPART(QUARTER, SOH.OrderDate) = @Quarter\r\n",
                "\r\n",
                "    RETURN @Sales\r\n",
                "END\r\n",
                ""
            ],
            "metadata": {
                "azdata_cell_guid": "f26c9187-bcff-44fa-b89a-214f921d1f6c"
            },
            "outputs": [],
            "execution_count": null
        },
        {
            "cell_type": "markdown",
            "source": [
                "از این نوع فانکشن می توان به جای اکسپرشن استفاده کرد"
            ],
            "metadata": {
                "azdata_cell_guid": "c0a8291f-4e5d-432e-b866-7adbe000e32a"
            }
        },
        {
            "cell_type": "code",
            "source": [
                "SELECT \r\n",
                "\tdbo.fnYearQuarterSales (2014, 2)"
            ],
            "metadata": {
                "azdata_cell_guid": "fc36f0ff-5094-48aa-aa3c-023cfbb8e983"
            },
            "outputs": [],
            "execution_count": null
        },
        {
            "cell_type": "markdown",
            "source": [
                "مساله:\n",
                "\n",
                "**فروش به تفکیک سال و فصل**\n",
                "\n",
                "**به صورت ماترسی**\n",
                "\n",
                "روش\n",
                "\n",
                "Scalar Valued Function"
            ],
            "metadata": {
                "azdata_cell_guid": "e6c0781c-2c8a-4675-a4e7-b1ede77af9ea"
            }
        },
        {
            "cell_type": "code",
            "source": [
                "SELECT \r\n",
                "\tYEAR(OrderDate) AS SalesYear,\r\n",
                "\tdbo.fnYearQuarterSales(YEAR(OrderDate), 1) AS Q1_Sales,\r\n",
                "\tdbo.fnYearQuarterSales(YEAR(OrderDate), 2) AS Q2_Sales,\r\n",
                "\tdbo.fnYearQuarterSales(YEAR(OrderDate), 3) AS Q3_Sales,\r\n",
                "\tdbo.fnYearQuarterSales(YEAR(OrderDate), 4) AS Q4_Sales\r\n",
                "FROM\r\n",
                "\tSales.SalesOrderHeader\r\n",
                "GROUP BY\r\n",
                "\tYEAR(OrderDate)\r\n",
                "ORDER BY\r\n",
                "\tSalesYear"
            ],
            "metadata": {
                "azdata_cell_guid": "268f5471-7aa2-4c65-997a-c6e61ff50610"
            },
            "outputs": [],
            "execution_count": null
        }
    ]
}