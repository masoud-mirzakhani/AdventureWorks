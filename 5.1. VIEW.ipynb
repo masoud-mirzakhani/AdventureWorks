{
    "metadata": {
        "kernelspec": {
            "name": "SQL",
            "display_name": "SQL",
            "language": "sql"
        },
        "language_info": {
            "name": "sql",
            "version": ""
        }
    },
    "nbformat_minor": 2,
    "nbformat": 4,
    "cells": [
        {
            "cell_type": "markdown",
            "source": [
                "**VIEW**"
            ],
            "metadata": {
                "azdata_cell_guid": "4fe5f493-26ae-4f56-943b-76ff33f05a74"
            }
        },
        {
            "cell_type": "markdown",
            "source": [
                "ساخت یک ویو برای محاسبه فروش به تفکیک سال، فصل و ماه"
            ],
            "metadata": {
                "azdata_cell_guid": "3f772315-5eca-4f04-9858-53db8fd9aa91"
            }
        },
        {
            "cell_type": "code",
            "source": [
                "DROP VIEW IF EXISTS Sales.vwMonthlySalesOrder\r\n",
                "GO\r\n",
                "\r\n",
                "CREATE VIEW Sales.vwMonthlySalesOrder\r\n",
                "AS\r\n",
                "SELECT \r\n",
                "\tYEAR(SOH.OrderDate)\t\t\t\t\tAS OrderYear,\r\n",
                "\tDATEPART(QUARTER, SOH.OrderDate)\tAS OrderQuarter,\r\n",
                "\tMONTH(SOH.OrderDate)\t\t\t\tAS OrderMonth,\r\n",
                "\tSUM(SOD.OrderQty)\t\t\t\t\tAS TotalOrderQty,\r\n",
                "\tSUM(SOD.OrderQty * SOD.UnitPrice)\tAS TotalPrice\r\n",
                "FROM\r\n",
                "\tSales.SalesOrderHeader AS SOH --31,465\r\n",
                "INNER JOIN\r\n",
                "\tSales.SalesOrderDetail AS SOD --121,317\r\n",
                "ON\r\n",
                "\tSOH.SalesOrderID = SOD.SalesOrderID\r\n",
                "GROUP BY\r\n",
                "\tYEAR(SOH.OrderDate),\r\n",
                "\tDATEPART(QUARTER, SOH.OrderDate),\r\n",
                "\tMONTH(SOH.OrderDate)"
            ],
            "metadata": {
                "azdata_cell_guid": "d5994843-05e0-4174-a6a0-40336d06a70b"
            },
            "outputs": [],
            "execution_count": null
        },
        {
            "cell_type": "markdown",
            "source": [
                "از ویو می توان مانند یک جدول کویری گرفت"
            ],
            "metadata": {
                "azdata_cell_guid": "2c2943bf-8dcf-47dd-b159-0cd3d922c827"
            }
        },
        {
            "cell_type": "code",
            "source": [
                "SELECT TOP 10\r\n",
                "\t*\r\n",
                "FROM\r\n",
                "\tSales.vwMonthlySalesOrder\r\n",
                "WHERE\r\n",
                "\tOrderYear > 2011\r\n",
                "ORDER BY\r\n",
                "\tOrderMonth"
            ],
            "metadata": {
                "azdata_cell_guid": "fbbd6a7a-a95e-4150-b035-f68d77661eeb"
            },
            "outputs": [],
            "execution_count": null
        },
        {
            "cell_type": "markdown",
            "source": [
                "مساله:\n",
                "\n",
                "**فروش به تفکیک سال و فصل**\n",
                "\n",
                "**به صورت ماترسی**\n",
                "\n",
                "  \n",
                "\n",
                "روش اول:  \n",
                "\n",
                "VIEW + JOIN\n",
                "\n",
                "ابتدا ویو ها را می سازیم"
            ],
            "metadata": {
                "azdata_cell_guid": "10ff866c-72c3-40af-a4a2-c76780c0c474"
            }
        },
        {
            "cell_type": "code",
            "source": [
                "-- VIEW: \r\n",
                "-- لیست سال ها\r\n",
                "DROP VIEW IF EXISTS Sales.vwSales_Years\r\n",
                "GO\r\n",
                "\r\n",
                "CREATE VIEW Sales.vwSales_Years\r\n",
                "AS\r\n",
                "SELECT \r\n",
                "\tYEAR(SOH.OrderDate)\t\t\t\t\tAS OrderYear\r\n",
                "FROM\r\n",
                "\tSales.SalesOrderHeader AS SOH \r\n",
                "GROUP BY\r\n",
                "\tYEAR(SOH.OrderDate)"
            ],
            "metadata": {
                "azdata_cell_guid": "23eedf76-7068-4c4c-9b47-217c6771ed33"
            },
            "outputs": [],
            "execution_count": null
        },
        {
            "cell_type": "code",
            "source": [
                "-- VIEW:\r\n",
                "-- فروش فصل اول به تفکیک سال\r\n",
                "\r\n",
                "DROP VIEW IF EXISTS Sales.vwSales_Q1\r\n",
                "GO\r\n",
                "\r\n",
                "CREATE VIEW Sales.vwSales_Q1\r\n",
                "AS\r\n",
                "SELECT \r\n",
                "\tYEAR(SOH.OrderDate)\t\t\t\t\tAS OrderYear,\r\n",
                "\tSUM(SOD.OrderQty * SOD.UnitPrice)\tAS Q1_Sales\r\n",
                "FROM\r\n",
                "\tSales.SalesOrderHeader AS SOH --31,465\r\n",
                "INNER JOIN\r\n",
                "\tSales.SalesOrderDetail AS SOD --121,317\r\n",
                "ON\r\n",
                "\tSOH.SalesOrderID = SOD.SalesOrderID\r\n",
                "WHERE\r\n",
                "\tDATEPART(QUARTER, SOH.OrderDate) = 1\r\n",
                "GROUP BY\r\n",
                "\tYEAR(SOH.OrderDate)"
            ],
            "metadata": {
                "azdata_cell_guid": "6b4db607-89c2-4f70-bfe1-f95f64e6981b"
            },
            "outputs": [],
            "execution_count": null
        },
        {
            "cell_type": "code",
            "source": [
                "-- VIEW:\r\n",
                "-- فروش فصل دوم به تفکیک سال\r\n",
                "\r\n",
                "DROP VIEW IF EXISTS Sales.vwSales_Q2\r\n",
                "GO\r\n",
                "\r\n",
                "CREATE VIEW Sales.vwSales_Q2\r\n",
                "AS\r\n",
                "SELECT \r\n",
                "\tYEAR(SOH.OrderDate)\t\t\t\t\tAS OrderYear,\r\n",
                "\tSUM(SOD.OrderQty * SOD.UnitPrice)\tAS Q2_Sales\r\n",
                "FROM\r\n",
                "\tSales.SalesOrderHeader AS SOH --31,465\r\n",
                "INNER JOIN\r\n",
                "\tSales.SalesOrderDetail AS SOD --121,317\r\n",
                "ON\r\n",
                "\tSOH.SalesOrderID = SOD.SalesOrderID\r\n",
                "WHERE\r\n",
                "\tDATEPART(QUARTER, SOH.OrderDate) = 2\r\n",
                "GROUP BY\r\n",
                "\tYEAR(SOH.OrderDate)"
            ],
            "metadata": {
                "azdata_cell_guid": "0afd5fae-f96a-48b7-97d4-87ec61a1ac18"
            },
            "outputs": [],
            "execution_count": null
        },
        {
            "cell_type": "code",
            "source": [
                "-- VIEW:\r\n",
                "-- فروش فصل سوم به تفکیک سال\r\n",
                "DROP VIEW IF EXISTS Sales.vwSales_Q3\r\n",
                "GO\r\n",
                "\r\n",
                "CREATE VIEW Sales.vwSales_Q3\r\n",
                "AS\r\n",
                "SELECT \r\n",
                "\tYEAR(SOH.OrderDate)\t\t\t\t\tAS OrderYear,\r\n",
                "\tSUM(SOD.OrderQty * SOD.UnitPrice)\tAS Q3_Sales\r\n",
                "FROM\r\n",
                "\tSales.SalesOrderHeader AS SOH --31,465\r\n",
                "INNER JOIN\r\n",
                "\tSales.SalesOrderDetail AS SOD --121,317\r\n",
                "ON\r\n",
                "\tSOH.SalesOrderID = SOD.SalesOrderID\r\n",
                "WHERE\r\n",
                "\tDATEPART(QUARTER, SOH.OrderDate) = 3\r\n",
                "GROUP BY\r\n",
                "\tYEAR(SOH.OrderDate)"
            ],
            "metadata": {
                "azdata_cell_guid": "c4b164f3-b8ae-412d-afa2-c9a9694ef1a1"
            },
            "outputs": [],
            "execution_count": null
        },
        {
            "cell_type": "code",
            "source": [
                "-- VIEW:\r\n",
                "-- فروش فصل چهارم به تفکیک سال\r\n",
                "\r\n",
                "DROP VIEW IF EXISTS Sales.vwSales_Q4\r\n",
                "GO\r\n",
                "\r\n",
                "CREATE VIEW Sales.vwSales_Q4\r\n",
                "AS\r\n",
                "SELECT \r\n",
                "\tYEAR(SOH.OrderDate)\t\t\t\t\tAS OrderYear,\r\n",
                "\tSUM(SOD.OrderQty * SOD.UnitPrice)\tAS Q4_Sales\r\n",
                "FROM\r\n",
                "\tSales.SalesOrderHeader AS SOH --31,465\r\n",
                "INNER JOIN\r\n",
                "\tSales.SalesOrderDetail AS SOD --121,317\r\n",
                "ON\r\n",
                "\tSOH.SalesOrderID = SOD.SalesOrderID\r\n",
                "WHERE\r\n",
                "\tDATEPART(QUARTER, SOH.OrderDate) = 4\r\n",
                "GROUP BY\r\n",
                "\tYEAR(SOH.OrderDate)"
            ],
            "metadata": {
                "azdata_cell_guid": "63099e24-de25-499d-87fb-ef8b95996ad0"
            },
            "outputs": [],
            "execution_count": null
        },
        {
            "cell_type": "code",
            "source": [
                "پس از ساخت ویو، آن ها را با جوین کنار هم قرار می دهیم"
            ],
            "metadata": {
                "azdata_cell_guid": "45b317d7-31fa-4400-9949-352d125a922d"
            },
            "outputs": [],
            "execution_count": null
        },
        {
            "cell_type": "code",
            "source": [
                "SELECT \r\n",
                "\tY.OrderYear,\r\n",
                "\tQ1.Q1_Sales,\r\n",
                "\tQ2.Q2_Sales,\r\n",
                "\tQ3.Q3_Sales,\r\n",
                "\tQ4.Q4_Sales\r\n",
                "FROM \r\n",
                "\tSales.vwSales_Years AS Y\r\n",
                "LEFT OUTER JOIN\r\n",
                "\tSales.vwSales_Q1 AS Q1\r\n",
                "ON\r\n",
                "\tY.OrderYear = Q1.OrderYear\r\n",
                "LEFT OUTER JOIN\r\n",
                "\tSales.vwSales_Q2 AS Q2\r\n",
                "ON\r\n",
                "\tY.OrderYear = Q2.OrderYear\r\n",
                "LEFT OUTER JOIN\r\n",
                "\tSales.vwSales_Q3 AS Q3\r\n",
                "ON\r\n",
                "\tY.OrderYear = Q3.OrderYear\r\n",
                "LEFT OUTER JOIN\r\n",
                "\tSales.vwSales_Q4 AS Q4\r\n",
                "ON\r\n",
                "\tY.OrderYear = Q4.OrderYear\r\n",
                "ORDER BY\r\n",
                "\tY.OrderYear"
            ],
            "metadata": {
                "azdata_cell_guid": "c29ca93c-17c6-4f51-90d3-78af0e7da24c"
            },
            "outputs": [],
            "execution_count": null
        }
    ]
}